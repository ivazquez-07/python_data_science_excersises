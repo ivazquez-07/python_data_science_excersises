{
  "cells": [
    {
      "cell_type": "markdown",
      "metadata": {
        "id": "view-in-github",
        "colab_type": "text"
      },
      "source": [
        "<a href=\"https://colab.research.google.com/github/ivazquez-07/python_data_science_excersises/blob/main/Probando%20Relaciones%20con%20Regresion%20Lineal/precios_de_inmuebles_regresion_lineal.ipynb\" target=\"_parent\"><img src=\"https://colab.research.google.com/assets/colab-badge.svg\" alt=\"Open In Colab\"/></a>"
      ]
    },
    {
      "cell_type": "markdown",
      "metadata": {
        "id": "y9t7dNY5fnHs"
      },
      "source": [
        "# **Precificación inmobiliaria**\n",
        "\n",
        "**Objetivo**: Estimar los precios de los inmuebles.\n",
        " * Identificar los aspectos que tienen más influencia en la precificación de los inmuebles.\n",
        " * Entender cuál de todos estos aspectos es el más relevante.\n",
        " * Precificar un inmueble nuevo.\n",
        "\n",
        "Base de datos simplificada e inspirada en [House Prices](https://www.kaggle.com/competitions/house-prices-advanced-regression-techniques)\n",
        "\n",
        "\n",
        "\n",
        "![](https://i.imgur.com/A8X79yq.jpeg)\n"
      ]
    },
    {
      "cell_type": "markdown",
      "metadata": {
        "id": "erMyEu5QyaSY"
      },
      "source": [
        "# 1. Ajustando una recta"
      ]
    },
    {
      "cell_type": "markdown",
      "metadata": {
        "id": "k2xsBplH-ccj"
      },
      "source": [
        "## Conociendo los datos"
      ]
    },
    {
      "cell_type": "code",
      "source": [
        "# Importando las librerias:\n",
        "import pandas as pd\n",
        "#import numpy as np\n",
        "#import matplotlib.pyplot as plt\n",
        "#import seaborn as sns\n",
        "\n",
        "#Leyendo los datos\n",
        "datos_url = \"https://raw.githubusercontent.com/ivazquez-07/python_data_science_excersises/refs/heads/main/Probando%20Relaciones%20con%20Regresion%20Lineal/precios_casas.csv\"\n",
        "\n",
        "datos = pd.read_csv(datos_url)\n",
        "\n",
        "datos.head()\n"
      ],
      "metadata": {
        "id": "j2kddk1QofRy",
        "colab": {
          "base_uri": "https://localhost:8080/",
          "height": 226
        },
        "outputId": "08f58087-42a1-447f-b6c6-81cb0d893ade"
      },
      "execution_count": 1,
      "outputs": [
        {
          "output_type": "execute_result",
          "data": {
            "text/plain": [
              "   Id  area_primer_piso  tiene_segundo_piso  area_segundo_piso  \\\n",
              "0   1           79.5224                   1            79.3366   \n",
              "1   2          117.2398                   0             0.0000   \n",
              "2   3           85.4680                   1            80.4514   \n",
              "3   4           89.2769                   1            70.2324   \n",
              "4   5          106.3705                   1            97.8237   \n",
              "\n",
              "   cantidad_banos  capacidad_carros_garage  calidad_de_cocina_excelente  \\\n",
              "0               2                      548                            0   \n",
              "1               2                      460                            0   \n",
              "2               2                      608                            0   \n",
              "3               1                      642                            0   \n",
              "4               2                      836                            0   \n",
              "\n",
              "   precio_de_venta  \n",
              "0        1027905.0  \n",
              "1         894795.0  \n",
              "2        1101855.0  \n",
              "3         690200.0  \n",
              "4        1232500.0  "
            ],
            "text/html": [
              "\n",
              "  <div id=\"df-1c76a901-099f-4af1-9c7e-be082157040b\" class=\"colab-df-container\">\n",
              "    <div>\n",
              "<style scoped>\n",
              "    .dataframe tbody tr th:only-of-type {\n",
              "        vertical-align: middle;\n",
              "    }\n",
              "\n",
              "    .dataframe tbody tr th {\n",
              "        vertical-align: top;\n",
              "    }\n",
              "\n",
              "    .dataframe thead th {\n",
              "        text-align: right;\n",
              "    }\n",
              "</style>\n",
              "<table border=\"1\" class=\"dataframe\">\n",
              "  <thead>\n",
              "    <tr style=\"text-align: right;\">\n",
              "      <th></th>\n",
              "      <th>Id</th>\n",
              "      <th>area_primer_piso</th>\n",
              "      <th>tiene_segundo_piso</th>\n",
              "      <th>area_segundo_piso</th>\n",
              "      <th>cantidad_banos</th>\n",
              "      <th>capacidad_carros_garage</th>\n",
              "      <th>calidad_de_cocina_excelente</th>\n",
              "      <th>precio_de_venta</th>\n",
              "    </tr>\n",
              "  </thead>\n",
              "  <tbody>\n",
              "    <tr>\n",
              "      <th>0</th>\n",
              "      <td>1</td>\n",
              "      <td>79.5224</td>\n",
              "      <td>1</td>\n",
              "      <td>79.3366</td>\n",
              "      <td>2</td>\n",
              "      <td>548</td>\n",
              "      <td>0</td>\n",
              "      <td>1027905.0</td>\n",
              "    </tr>\n",
              "    <tr>\n",
              "      <th>1</th>\n",
              "      <td>2</td>\n",
              "      <td>117.2398</td>\n",
              "      <td>0</td>\n",
              "      <td>0.0000</td>\n",
              "      <td>2</td>\n",
              "      <td>460</td>\n",
              "      <td>0</td>\n",
              "      <td>894795.0</td>\n",
              "    </tr>\n",
              "    <tr>\n",
              "      <th>2</th>\n",
              "      <td>3</td>\n",
              "      <td>85.4680</td>\n",
              "      <td>1</td>\n",
              "      <td>80.4514</td>\n",
              "      <td>2</td>\n",
              "      <td>608</td>\n",
              "      <td>0</td>\n",
              "      <td>1101855.0</td>\n",
              "    </tr>\n",
              "    <tr>\n",
              "      <th>3</th>\n",
              "      <td>4</td>\n",
              "      <td>89.2769</td>\n",
              "      <td>1</td>\n",
              "      <td>70.2324</td>\n",
              "      <td>1</td>\n",
              "      <td>642</td>\n",
              "      <td>0</td>\n",
              "      <td>690200.0</td>\n",
              "    </tr>\n",
              "    <tr>\n",
              "      <th>4</th>\n",
              "      <td>5</td>\n",
              "      <td>106.3705</td>\n",
              "      <td>1</td>\n",
              "      <td>97.8237</td>\n",
              "      <td>2</td>\n",
              "      <td>836</td>\n",
              "      <td>0</td>\n",
              "      <td>1232500.0</td>\n",
              "    </tr>\n",
              "  </tbody>\n",
              "</table>\n",
              "</div>\n",
              "    <div class=\"colab-df-buttons\">\n",
              "\n",
              "  <div class=\"colab-df-container\">\n",
              "    <button class=\"colab-df-convert\" onclick=\"convertToInteractive('df-1c76a901-099f-4af1-9c7e-be082157040b')\"\n",
              "            title=\"Convert this dataframe to an interactive table.\"\n",
              "            style=\"display:none;\">\n",
              "\n",
              "  <svg xmlns=\"http://www.w3.org/2000/svg\" height=\"24px\" viewBox=\"0 -960 960 960\">\n",
              "    <path d=\"M120-120v-720h720v720H120Zm60-500h600v-160H180v160Zm220 220h160v-160H400v160Zm0 220h160v-160H400v160ZM180-400h160v-160H180v160Zm440 0h160v-160H620v160ZM180-180h160v-160H180v160Zm440 0h160v-160H620v160Z\"/>\n",
              "  </svg>\n",
              "    </button>\n",
              "\n",
              "  <style>\n",
              "    .colab-df-container {\n",
              "      display:flex;\n",
              "      gap: 12px;\n",
              "    }\n",
              "\n",
              "    .colab-df-convert {\n",
              "      background-color: #E8F0FE;\n",
              "      border: none;\n",
              "      border-radius: 50%;\n",
              "      cursor: pointer;\n",
              "      display: none;\n",
              "      fill: #1967D2;\n",
              "      height: 32px;\n",
              "      padding: 0 0 0 0;\n",
              "      width: 32px;\n",
              "    }\n",
              "\n",
              "    .colab-df-convert:hover {\n",
              "      background-color: #E2EBFA;\n",
              "      box-shadow: 0px 1px 2px rgba(60, 64, 67, 0.3), 0px 1px 3px 1px rgba(60, 64, 67, 0.15);\n",
              "      fill: #174EA6;\n",
              "    }\n",
              "\n",
              "    .colab-df-buttons div {\n",
              "      margin-bottom: 4px;\n",
              "    }\n",
              "\n",
              "    [theme=dark] .colab-df-convert {\n",
              "      background-color: #3B4455;\n",
              "      fill: #D2E3FC;\n",
              "    }\n",
              "\n",
              "    [theme=dark] .colab-df-convert:hover {\n",
              "      background-color: #434B5C;\n",
              "      box-shadow: 0px 1px 3px 1px rgba(0, 0, 0, 0.15);\n",
              "      filter: drop-shadow(0px 1px 2px rgba(0, 0, 0, 0.3));\n",
              "      fill: #FFFFFF;\n",
              "    }\n",
              "  </style>\n",
              "\n",
              "    <script>\n",
              "      const buttonEl =\n",
              "        document.querySelector('#df-1c76a901-099f-4af1-9c7e-be082157040b button.colab-df-convert');\n",
              "      buttonEl.style.display =\n",
              "        google.colab.kernel.accessAllowed ? 'block' : 'none';\n",
              "\n",
              "      async function convertToInteractive(key) {\n",
              "        const element = document.querySelector('#df-1c76a901-099f-4af1-9c7e-be082157040b');\n",
              "        const dataTable =\n",
              "          await google.colab.kernel.invokeFunction('convertToInteractive',\n",
              "                                                    [key], {});\n",
              "        if (!dataTable) return;\n",
              "\n",
              "        const docLinkHtml = 'Like what you see? Visit the ' +\n",
              "          '<a target=\"_blank\" href=https://colab.research.google.com/notebooks/data_table.ipynb>data table notebook</a>'\n",
              "          + ' to learn more about interactive tables.';\n",
              "        element.innerHTML = '';\n",
              "        dataTable['output_type'] = 'display_data';\n",
              "        await google.colab.output.renderOutput(dataTable, element);\n",
              "        const docLink = document.createElement('div');\n",
              "        docLink.innerHTML = docLinkHtml;\n",
              "        element.appendChild(docLink);\n",
              "      }\n",
              "    </script>\n",
              "  </div>\n",
              "\n",
              "\n",
              "    <div id=\"df-144101f2-6343-4268-872f-01115a9a26ab\">\n",
              "      <button class=\"colab-df-quickchart\" onclick=\"quickchart('df-144101f2-6343-4268-872f-01115a9a26ab')\"\n",
              "                title=\"Suggest charts\"\n",
              "                style=\"display:none;\">\n",
              "\n",
              "<svg xmlns=\"http://www.w3.org/2000/svg\" height=\"24px\"viewBox=\"0 0 24 24\"\n",
              "     width=\"24px\">\n",
              "    <g>\n",
              "        <path d=\"M19 3H5c-1.1 0-2 .9-2 2v14c0 1.1.9 2 2 2h14c1.1 0 2-.9 2-2V5c0-1.1-.9-2-2-2zM9 17H7v-7h2v7zm4 0h-2V7h2v10zm4 0h-2v-4h2v4z\"/>\n",
              "    </g>\n",
              "</svg>\n",
              "      </button>\n",
              "\n",
              "<style>\n",
              "  .colab-df-quickchart {\n",
              "      --bg-color: #E8F0FE;\n",
              "      --fill-color: #1967D2;\n",
              "      --hover-bg-color: #E2EBFA;\n",
              "      --hover-fill-color: #174EA6;\n",
              "      --disabled-fill-color: #AAA;\n",
              "      --disabled-bg-color: #DDD;\n",
              "  }\n",
              "\n",
              "  [theme=dark] .colab-df-quickchart {\n",
              "      --bg-color: #3B4455;\n",
              "      --fill-color: #D2E3FC;\n",
              "      --hover-bg-color: #434B5C;\n",
              "      --hover-fill-color: #FFFFFF;\n",
              "      --disabled-bg-color: #3B4455;\n",
              "      --disabled-fill-color: #666;\n",
              "  }\n",
              "\n",
              "  .colab-df-quickchart {\n",
              "    background-color: var(--bg-color);\n",
              "    border: none;\n",
              "    border-radius: 50%;\n",
              "    cursor: pointer;\n",
              "    display: none;\n",
              "    fill: var(--fill-color);\n",
              "    height: 32px;\n",
              "    padding: 0;\n",
              "    width: 32px;\n",
              "  }\n",
              "\n",
              "  .colab-df-quickchart:hover {\n",
              "    background-color: var(--hover-bg-color);\n",
              "    box-shadow: 0 1px 2px rgba(60, 64, 67, 0.3), 0 1px 3px 1px rgba(60, 64, 67, 0.15);\n",
              "    fill: var(--button-hover-fill-color);\n",
              "  }\n",
              "\n",
              "  .colab-df-quickchart-complete:disabled,\n",
              "  .colab-df-quickchart-complete:disabled:hover {\n",
              "    background-color: var(--disabled-bg-color);\n",
              "    fill: var(--disabled-fill-color);\n",
              "    box-shadow: none;\n",
              "  }\n",
              "\n",
              "  .colab-df-spinner {\n",
              "    border: 2px solid var(--fill-color);\n",
              "    border-color: transparent;\n",
              "    border-bottom-color: var(--fill-color);\n",
              "    animation:\n",
              "      spin 1s steps(1) infinite;\n",
              "  }\n",
              "\n",
              "  @keyframes spin {\n",
              "    0% {\n",
              "      border-color: transparent;\n",
              "      border-bottom-color: var(--fill-color);\n",
              "      border-left-color: var(--fill-color);\n",
              "    }\n",
              "    20% {\n",
              "      border-color: transparent;\n",
              "      border-left-color: var(--fill-color);\n",
              "      border-top-color: var(--fill-color);\n",
              "    }\n",
              "    30% {\n",
              "      border-color: transparent;\n",
              "      border-left-color: var(--fill-color);\n",
              "      border-top-color: var(--fill-color);\n",
              "      border-right-color: var(--fill-color);\n",
              "    }\n",
              "    40% {\n",
              "      border-color: transparent;\n",
              "      border-right-color: var(--fill-color);\n",
              "      border-top-color: var(--fill-color);\n",
              "    }\n",
              "    60% {\n",
              "      border-color: transparent;\n",
              "      border-right-color: var(--fill-color);\n",
              "    }\n",
              "    80% {\n",
              "      border-color: transparent;\n",
              "      border-right-color: var(--fill-color);\n",
              "      border-bottom-color: var(--fill-color);\n",
              "    }\n",
              "    90% {\n",
              "      border-color: transparent;\n",
              "      border-bottom-color: var(--fill-color);\n",
              "    }\n",
              "  }\n",
              "</style>\n",
              "\n",
              "      <script>\n",
              "        async function quickchart(key) {\n",
              "          const quickchartButtonEl =\n",
              "            document.querySelector('#' + key + ' button');\n",
              "          quickchartButtonEl.disabled = true;  // To prevent multiple clicks.\n",
              "          quickchartButtonEl.classList.add('colab-df-spinner');\n",
              "          try {\n",
              "            const charts = await google.colab.kernel.invokeFunction(\n",
              "                'suggestCharts', [key], {});\n",
              "          } catch (error) {\n",
              "            console.error('Error during call to suggestCharts:', error);\n",
              "          }\n",
              "          quickchartButtonEl.classList.remove('colab-df-spinner');\n",
              "          quickchartButtonEl.classList.add('colab-df-quickchart-complete');\n",
              "        }\n",
              "        (() => {\n",
              "          let quickchartButtonEl =\n",
              "            document.querySelector('#df-144101f2-6343-4268-872f-01115a9a26ab button');\n",
              "          quickchartButtonEl.style.display =\n",
              "            google.colab.kernel.accessAllowed ? 'block' : 'none';\n",
              "        })();\n",
              "      </script>\n",
              "    </div>\n",
              "\n",
              "    </div>\n",
              "  </div>\n"
            ],
            "application/vnd.google.colaboratory.intrinsic+json": {
              "type": "dataframe",
              "variable_name": "datos",
              "summary": "{\n  \"name\": \"datos\",\n  \"rows\": 1438,\n  \"fields\": [\n    {\n      \"column\": \"Id\",\n      \"properties\": {\n        \"dtype\": \"number\",\n        \"std\": 422,\n        \"min\": 1,\n        \"max\": 1460,\n        \"num_unique_values\": 1438,\n        \"samples\": [\n          52,\n          1343,\n          940\n        ],\n        \"semantic_type\": \"\",\n        \"description\": \"\"\n      }\n    },\n    {\n      \"column\": \"area_primer_piso\",\n      \"properties\": {\n        \"dtype\": \"number\",\n        \"std\": 33.04059754095299,\n        \"min\": 31.0286,\n        \"max\": 223.1458,\n        \"num_unique_values\": 735,\n        \"samples\": [\n          88.3479,\n          105.1628,\n          92.2497\n        ],\n        \"semantic_type\": \"\",\n        \"description\": \"\"\n      }\n    },\n    {\n      \"column\": \"tiene_segundo_piso\",\n      \"properties\": {\n        \"dtype\": \"number\",\n        \"std\": 0,\n        \"min\": 0,\n        \"max\": 1,\n        \"num_unique_values\": 2,\n        \"samples\": [\n          0,\n          1\n        ],\n        \"semantic_type\": \"\",\n        \"description\": \"\"\n      }\n    },\n    {\n      \"column\": \"area_segundo_piso\",\n      \"properties\": {\n        \"dtype\": \"number\",\n        \"std\": 39.95284630917856,\n        \"min\": 0.0,\n        \"max\": 168.8922,\n        \"num_unique_values\": 407,\n        \"samples\": [\n          65.4016,\n          78.3147\n        ],\n        \"semantic_type\": \"\",\n        \"description\": \"\"\n      }\n    },\n    {\n      \"column\": \"cantidad_banos\",\n      \"properties\": {\n        \"dtype\": \"number\",\n        \"std\": 0,\n        \"min\": 0,\n        \"max\": 3,\n        \"num_unique_values\": 4,\n        \"samples\": [\n          1,\n          0\n        ],\n        \"semantic_type\": \"\",\n        \"description\": \"\"\n      }\n    },\n    {\n      \"column\": \"capacidad_carros_garage\",\n      \"properties\": {\n        \"dtype\": \"number\",\n        \"std\": 211,\n        \"min\": 0,\n        \"max\": 1390,\n        \"num_unique_values\": 431,\n        \"samples\": [\n          542,\n          546\n        ],\n        \"semantic_type\": \"\",\n        \"description\": \"\"\n      }\n    },\n    {\n      \"column\": \"calidad_de_cocina_excelente\",\n      \"properties\": {\n        \"dtype\": \"number\",\n        \"std\": 0,\n        \"min\": 0,\n        \"max\": 1,\n        \"num_unique_values\": 2,\n        \"samples\": [\n          1,\n          0\n        ],\n        \"semantic_type\": \"\",\n        \"description\": \"\"\n      }\n    },\n    {\n      \"column\": \"precio_de_venta\",\n      \"properties\": {\n        \"dtype\": \"number\",\n        \"std\": 369720.34281568107,\n        \"min\": 172057.0,\n        \"max\": 3081250.0,\n        \"num_unique_values\": 653,\n        \"samples\": [\n          758727.0,\n          1210315.0\n        ],\n        \"semantic_type\": \"\",\n        \"description\": \"\"\n      }\n    }\n  ]\n}"
            }
          },
          "metadata": {},
          "execution_count": 1
        }
      ]
    },
    {
      "cell_type": "code",
      "execution_count": 2,
      "metadata": {
        "id": "ODdLbwgwmKB4",
        "colab": {
          "base_uri": "https://localhost:8080/"
        },
        "outputId": "440ada6e-806e-453d-a23f-8c04b8b4afd3"
      },
      "outputs": [
        {
          "output_type": "stream",
          "name": "stdout",
          "text": [
            "<class 'pandas.core.frame.DataFrame'>\n",
            "RangeIndex: 1438 entries, 0 to 1437\n",
            "Data columns (total 8 columns):\n",
            " #   Column                       Non-Null Count  Dtype  \n",
            "---  ------                       --------------  -----  \n",
            " 0   Id                           1438 non-null   int64  \n",
            " 1   area_primer_piso             1438 non-null   float64\n",
            " 2   tiene_segundo_piso           1438 non-null   int64  \n",
            " 3   area_segundo_piso            1438 non-null   float64\n",
            " 4   cantidad_banos               1438 non-null   int64  \n",
            " 5   capacidad_carros_garage      1438 non-null   int64  \n",
            " 6   calidad_de_cocina_excelente  1438 non-null   int64  \n",
            " 7   precio_de_venta              1438 non-null   float64\n",
            "dtypes: float64(3), int64(5)\n",
            "memory usage: 90.0 KB\n"
          ]
        }
      ],
      "source": [
        "#Cuáles factores fueron colectados\n",
        "datos.info()"
      ]
    },
    {
      "cell_type": "code",
      "source": [
        "datos = datos.drop(columns='Id')\n",
        "\n",
        "datos.columns\n",
        "\n",
        "datos.head(2)"
      ],
      "metadata": {
        "id": "Fx5C-rYjpNsa",
        "colab": {
          "base_uri": "https://localhost:8080/",
          "height": 132
        },
        "outputId": "80d611ba-d5e2-46d1-ea36-b7f5e1e22f4e"
      },
      "execution_count": 3,
      "outputs": [
        {
          "output_type": "execute_result",
          "data": {
            "text/plain": [
              "   area_primer_piso  tiene_segundo_piso  area_segundo_piso  cantidad_banos  \\\n",
              "0           79.5224                   1            79.3366               2   \n",
              "1          117.2398                   0             0.0000               2   \n",
              "\n",
              "   capacidad_carros_garage  calidad_de_cocina_excelente  precio_de_venta  \n",
              "0                      548                            0        1027905.0  \n",
              "1                      460                            0         894795.0  "
            ],
            "text/html": [
              "\n",
              "  <div id=\"df-33dcc78c-8831-4984-8263-a8e1cf230d89\" class=\"colab-df-container\">\n",
              "    <div>\n",
              "<style scoped>\n",
              "    .dataframe tbody tr th:only-of-type {\n",
              "        vertical-align: middle;\n",
              "    }\n",
              "\n",
              "    .dataframe tbody tr th {\n",
              "        vertical-align: top;\n",
              "    }\n",
              "\n",
              "    .dataframe thead th {\n",
              "        text-align: right;\n",
              "    }\n",
              "</style>\n",
              "<table border=\"1\" class=\"dataframe\">\n",
              "  <thead>\n",
              "    <tr style=\"text-align: right;\">\n",
              "      <th></th>\n",
              "      <th>area_primer_piso</th>\n",
              "      <th>tiene_segundo_piso</th>\n",
              "      <th>area_segundo_piso</th>\n",
              "      <th>cantidad_banos</th>\n",
              "      <th>capacidad_carros_garage</th>\n",
              "      <th>calidad_de_cocina_excelente</th>\n",
              "      <th>precio_de_venta</th>\n",
              "    </tr>\n",
              "  </thead>\n",
              "  <tbody>\n",
              "    <tr>\n",
              "      <th>0</th>\n",
              "      <td>79.5224</td>\n",
              "      <td>1</td>\n",
              "      <td>79.3366</td>\n",
              "      <td>2</td>\n",
              "      <td>548</td>\n",
              "      <td>0</td>\n",
              "      <td>1027905.0</td>\n",
              "    </tr>\n",
              "    <tr>\n",
              "      <th>1</th>\n",
              "      <td>117.2398</td>\n",
              "      <td>0</td>\n",
              "      <td>0.0000</td>\n",
              "      <td>2</td>\n",
              "      <td>460</td>\n",
              "      <td>0</td>\n",
              "      <td>894795.0</td>\n",
              "    </tr>\n",
              "  </tbody>\n",
              "</table>\n",
              "</div>\n",
              "    <div class=\"colab-df-buttons\">\n",
              "\n",
              "  <div class=\"colab-df-container\">\n",
              "    <button class=\"colab-df-convert\" onclick=\"convertToInteractive('df-33dcc78c-8831-4984-8263-a8e1cf230d89')\"\n",
              "            title=\"Convert this dataframe to an interactive table.\"\n",
              "            style=\"display:none;\">\n",
              "\n",
              "  <svg xmlns=\"http://www.w3.org/2000/svg\" height=\"24px\" viewBox=\"0 -960 960 960\">\n",
              "    <path d=\"M120-120v-720h720v720H120Zm60-500h600v-160H180v160Zm220 220h160v-160H400v160Zm0 220h160v-160H400v160ZM180-400h160v-160H180v160Zm440 0h160v-160H620v160ZM180-180h160v-160H180v160Zm440 0h160v-160H620v160Z\"/>\n",
              "  </svg>\n",
              "    </button>\n",
              "\n",
              "  <style>\n",
              "    .colab-df-container {\n",
              "      display:flex;\n",
              "      gap: 12px;\n",
              "    }\n",
              "\n",
              "    .colab-df-convert {\n",
              "      background-color: #E8F0FE;\n",
              "      border: none;\n",
              "      border-radius: 50%;\n",
              "      cursor: pointer;\n",
              "      display: none;\n",
              "      fill: #1967D2;\n",
              "      height: 32px;\n",
              "      padding: 0 0 0 0;\n",
              "      width: 32px;\n",
              "    }\n",
              "\n",
              "    .colab-df-convert:hover {\n",
              "      background-color: #E2EBFA;\n",
              "      box-shadow: 0px 1px 2px rgba(60, 64, 67, 0.3), 0px 1px 3px 1px rgba(60, 64, 67, 0.15);\n",
              "      fill: #174EA6;\n",
              "    }\n",
              "\n",
              "    .colab-df-buttons div {\n",
              "      margin-bottom: 4px;\n",
              "    }\n",
              "\n",
              "    [theme=dark] .colab-df-convert {\n",
              "      background-color: #3B4455;\n",
              "      fill: #D2E3FC;\n",
              "    }\n",
              "\n",
              "    [theme=dark] .colab-df-convert:hover {\n",
              "      background-color: #434B5C;\n",
              "      box-shadow: 0px 1px 3px 1px rgba(0, 0, 0, 0.15);\n",
              "      filter: drop-shadow(0px 1px 2px rgba(0, 0, 0, 0.3));\n",
              "      fill: #FFFFFF;\n",
              "    }\n",
              "  </style>\n",
              "\n",
              "    <script>\n",
              "      const buttonEl =\n",
              "        document.querySelector('#df-33dcc78c-8831-4984-8263-a8e1cf230d89 button.colab-df-convert');\n",
              "      buttonEl.style.display =\n",
              "        google.colab.kernel.accessAllowed ? 'block' : 'none';\n",
              "\n",
              "      async function convertToInteractive(key) {\n",
              "        const element = document.querySelector('#df-33dcc78c-8831-4984-8263-a8e1cf230d89');\n",
              "        const dataTable =\n",
              "          await google.colab.kernel.invokeFunction('convertToInteractive',\n",
              "                                                    [key], {});\n",
              "        if (!dataTable) return;\n",
              "\n",
              "        const docLinkHtml = 'Like what you see? Visit the ' +\n",
              "          '<a target=\"_blank\" href=https://colab.research.google.com/notebooks/data_table.ipynb>data table notebook</a>'\n",
              "          + ' to learn more about interactive tables.';\n",
              "        element.innerHTML = '';\n",
              "        dataTable['output_type'] = 'display_data';\n",
              "        await google.colab.output.renderOutput(dataTable, element);\n",
              "        const docLink = document.createElement('div');\n",
              "        docLink.innerHTML = docLinkHtml;\n",
              "        element.appendChild(docLink);\n",
              "      }\n",
              "    </script>\n",
              "  </div>\n",
              "\n",
              "\n",
              "    <div id=\"df-f00d45bd-8232-4820-aac8-fb495d245ee7\">\n",
              "      <button class=\"colab-df-quickchart\" onclick=\"quickchart('df-f00d45bd-8232-4820-aac8-fb495d245ee7')\"\n",
              "                title=\"Suggest charts\"\n",
              "                style=\"display:none;\">\n",
              "\n",
              "<svg xmlns=\"http://www.w3.org/2000/svg\" height=\"24px\"viewBox=\"0 0 24 24\"\n",
              "     width=\"24px\">\n",
              "    <g>\n",
              "        <path d=\"M19 3H5c-1.1 0-2 .9-2 2v14c0 1.1.9 2 2 2h14c1.1 0 2-.9 2-2V5c0-1.1-.9-2-2-2zM9 17H7v-7h2v7zm4 0h-2V7h2v10zm4 0h-2v-4h2v4z\"/>\n",
              "    </g>\n",
              "</svg>\n",
              "      </button>\n",
              "\n",
              "<style>\n",
              "  .colab-df-quickchart {\n",
              "      --bg-color: #E8F0FE;\n",
              "      --fill-color: #1967D2;\n",
              "      --hover-bg-color: #E2EBFA;\n",
              "      --hover-fill-color: #174EA6;\n",
              "      --disabled-fill-color: #AAA;\n",
              "      --disabled-bg-color: #DDD;\n",
              "  }\n",
              "\n",
              "  [theme=dark] .colab-df-quickchart {\n",
              "      --bg-color: #3B4455;\n",
              "      --fill-color: #D2E3FC;\n",
              "      --hover-bg-color: #434B5C;\n",
              "      --hover-fill-color: #FFFFFF;\n",
              "      --disabled-bg-color: #3B4455;\n",
              "      --disabled-fill-color: #666;\n",
              "  }\n",
              "\n",
              "  .colab-df-quickchart {\n",
              "    background-color: var(--bg-color);\n",
              "    border: none;\n",
              "    border-radius: 50%;\n",
              "    cursor: pointer;\n",
              "    display: none;\n",
              "    fill: var(--fill-color);\n",
              "    height: 32px;\n",
              "    padding: 0;\n",
              "    width: 32px;\n",
              "  }\n",
              "\n",
              "  .colab-df-quickchart:hover {\n",
              "    background-color: var(--hover-bg-color);\n",
              "    box-shadow: 0 1px 2px rgba(60, 64, 67, 0.3), 0 1px 3px 1px rgba(60, 64, 67, 0.15);\n",
              "    fill: var(--button-hover-fill-color);\n",
              "  }\n",
              "\n",
              "  .colab-df-quickchart-complete:disabled,\n",
              "  .colab-df-quickchart-complete:disabled:hover {\n",
              "    background-color: var(--disabled-bg-color);\n",
              "    fill: var(--disabled-fill-color);\n",
              "    box-shadow: none;\n",
              "  }\n",
              "\n",
              "  .colab-df-spinner {\n",
              "    border: 2px solid var(--fill-color);\n",
              "    border-color: transparent;\n",
              "    border-bottom-color: var(--fill-color);\n",
              "    animation:\n",
              "      spin 1s steps(1) infinite;\n",
              "  }\n",
              "\n",
              "  @keyframes spin {\n",
              "    0% {\n",
              "      border-color: transparent;\n",
              "      border-bottom-color: var(--fill-color);\n",
              "      border-left-color: var(--fill-color);\n",
              "    }\n",
              "    20% {\n",
              "      border-color: transparent;\n",
              "      border-left-color: var(--fill-color);\n",
              "      border-top-color: var(--fill-color);\n",
              "    }\n",
              "    30% {\n",
              "      border-color: transparent;\n",
              "      border-left-color: var(--fill-color);\n",
              "      border-top-color: var(--fill-color);\n",
              "      border-right-color: var(--fill-color);\n",
              "    }\n",
              "    40% {\n",
              "      border-color: transparent;\n",
              "      border-right-color: var(--fill-color);\n",
              "      border-top-color: var(--fill-color);\n",
              "    }\n",
              "    60% {\n",
              "      border-color: transparent;\n",
              "      border-right-color: var(--fill-color);\n",
              "    }\n",
              "    80% {\n",
              "      border-color: transparent;\n",
              "      border-right-color: var(--fill-color);\n",
              "      border-bottom-color: var(--fill-color);\n",
              "    }\n",
              "    90% {\n",
              "      border-color: transparent;\n",
              "      border-bottom-color: var(--fill-color);\n",
              "    }\n",
              "  }\n",
              "</style>\n",
              "\n",
              "      <script>\n",
              "        async function quickchart(key) {\n",
              "          const quickchartButtonEl =\n",
              "            document.querySelector('#' + key + ' button');\n",
              "          quickchartButtonEl.disabled = true;  // To prevent multiple clicks.\n",
              "          quickchartButtonEl.classList.add('colab-df-spinner');\n",
              "          try {\n",
              "            const charts = await google.colab.kernel.invokeFunction(\n",
              "                'suggestCharts', [key], {});\n",
              "          } catch (error) {\n",
              "            console.error('Error during call to suggestCharts:', error);\n",
              "          }\n",
              "          quickchartButtonEl.classList.remove('colab-df-spinner');\n",
              "          quickchartButtonEl.classList.add('colab-df-quickchart-complete');\n",
              "        }\n",
              "        (() => {\n",
              "          let quickchartButtonEl =\n",
              "            document.querySelector('#df-f00d45bd-8232-4820-aac8-fb495d245ee7 button');\n",
              "          quickchartButtonEl.style.display =\n",
              "            google.colab.kernel.accessAllowed ? 'block' : 'none';\n",
              "        })();\n",
              "      </script>\n",
              "    </div>\n",
              "\n",
              "    </div>\n",
              "  </div>\n"
            ],
            "application/vnd.google.colaboratory.intrinsic+json": {
              "type": "dataframe",
              "variable_name": "datos",
              "summary": "{\n  \"name\": \"datos\",\n  \"rows\": 1438,\n  \"fields\": [\n    {\n      \"column\": \"area_primer_piso\",\n      \"properties\": {\n        \"dtype\": \"number\",\n        \"std\": 33.04059754095299,\n        \"min\": 31.0286,\n        \"max\": 223.1458,\n        \"num_unique_values\": 735,\n        \"samples\": [\n          88.3479,\n          105.1628,\n          92.2497\n        ],\n        \"semantic_type\": \"\",\n        \"description\": \"\"\n      }\n    },\n    {\n      \"column\": \"tiene_segundo_piso\",\n      \"properties\": {\n        \"dtype\": \"number\",\n        \"std\": 0,\n        \"min\": 0,\n        \"max\": 1,\n        \"num_unique_values\": 2,\n        \"samples\": [\n          0,\n          1\n        ],\n        \"semantic_type\": \"\",\n        \"description\": \"\"\n      }\n    },\n    {\n      \"column\": \"area_segundo_piso\",\n      \"properties\": {\n        \"dtype\": \"number\",\n        \"std\": 39.95284630917856,\n        \"min\": 0.0,\n        \"max\": 168.8922,\n        \"num_unique_values\": 407,\n        \"samples\": [\n          65.4016,\n          78.3147\n        ],\n        \"semantic_type\": \"\",\n        \"description\": \"\"\n      }\n    },\n    {\n      \"column\": \"cantidad_banos\",\n      \"properties\": {\n        \"dtype\": \"number\",\n        \"std\": 0,\n        \"min\": 0,\n        \"max\": 3,\n        \"num_unique_values\": 4,\n        \"samples\": [\n          1,\n          0\n        ],\n        \"semantic_type\": \"\",\n        \"description\": \"\"\n      }\n    },\n    {\n      \"column\": \"capacidad_carros_garage\",\n      \"properties\": {\n        \"dtype\": \"number\",\n        \"std\": 211,\n        \"min\": 0,\n        \"max\": 1390,\n        \"num_unique_values\": 431,\n        \"samples\": [\n          542,\n          546\n        ],\n        \"semantic_type\": \"\",\n        \"description\": \"\"\n      }\n    },\n    {\n      \"column\": \"calidad_de_cocina_excelente\",\n      \"properties\": {\n        \"dtype\": \"number\",\n        \"std\": 0,\n        \"min\": 0,\n        \"max\": 1,\n        \"num_unique_values\": 2,\n        \"samples\": [\n          1,\n          0\n        ],\n        \"semantic_type\": \"\",\n        \"description\": \"\"\n      }\n    },\n    {\n      \"column\": \"precio_de_venta\",\n      \"properties\": {\n        \"dtype\": \"number\",\n        \"std\": 369720.34281568107,\n        \"min\": 172057.0,\n        \"max\": 3081250.0,\n        \"num_unique_values\": 653,\n        \"samples\": [\n          758727.0,\n          1210315.0\n        ],\n        \"semantic_type\": \"\",\n        \"description\": \"\"\n      }\n    }\n  ]\n}"
            }
          },
          "metadata": {},
          "execution_count": 3
        }
      ]
    },
    {
      "cell_type": "markdown",
      "metadata": {
        "id": "m47fyV-TskS8"
      },
      "source": [
        "## Correlación\n",
        "\n",
        "**¿Cuáles factores están relacionados con el precio de la casa? ¿Cómo es esa relación?**\n",
        "\n",
        "El coeficiente de correlación de Pearson nos permite medir la relación lineal entre variables, ofreciendo una escala que varía de -1 a 1, la cual interpretamos según su intensidad y dirección:\n",
        "\n",
        "* **-1**: correlación negativa perfecta: a medida que una variable aumenta, la otra disminuye.  \n",
        "* **0**: no hay relación lineal entre las variables.  \n",
        "* **1**: correlación positiva perfecta: a medida que una variable aumenta, la otra también aumenta.  \n",
        "\n"
      ]
    },
    {
      "cell_type": "code",
      "source": [
        "# Correlación\n",
        "corr = datos.corr()"
      ],
      "metadata": {
        "id": "u4H8rN9RqOVL"
      },
      "execution_count": 4,
      "outputs": []
    },
    {
      "cell_type": "code",
      "source": [
        "corr['precio_de_venta'].sort_values(ascending=False)"
      ],
      "metadata": {
        "id": "EsNfQ6ghqcAq",
        "colab": {
          "base_uri": "https://localhost:8080/",
          "height": 304
        },
        "outputId": "185997eb-6cb7-4658-f7e9-a9e3d330e0b6"
      },
      "execution_count": 5,
      "outputs": [
        {
          "output_type": "execute_result",
          "data": {
            "text/plain": [
              "precio_de_venta                1.000000\n",
              "capacidad_carros_garage        0.640214\n",
              "area_primer_piso               0.616557\n",
              "cantidad_banos                 0.563132\n",
              "calidad_de_cocina_excelente    0.496223\n",
              "area_segundo_piso              0.305311\n",
              "tiene_segundo_piso             0.138541\n",
              "Name: precio_de_venta, dtype: float64"
            ],
            "text/html": [
              "<div>\n",
              "<style scoped>\n",
              "    .dataframe tbody tr th:only-of-type {\n",
              "        vertical-align: middle;\n",
              "    }\n",
              "\n",
              "    .dataframe tbody tr th {\n",
              "        vertical-align: top;\n",
              "    }\n",
              "\n",
              "    .dataframe thead th {\n",
              "        text-align: right;\n",
              "    }\n",
              "</style>\n",
              "<table border=\"1\" class=\"dataframe\">\n",
              "  <thead>\n",
              "    <tr style=\"text-align: right;\">\n",
              "      <th></th>\n",
              "      <th>precio_de_venta</th>\n",
              "    </tr>\n",
              "  </thead>\n",
              "  <tbody>\n",
              "    <tr>\n",
              "      <th>precio_de_venta</th>\n",
              "      <td>1.000000</td>\n",
              "    </tr>\n",
              "    <tr>\n",
              "      <th>capacidad_carros_garage</th>\n",
              "      <td>0.640214</td>\n",
              "    </tr>\n",
              "    <tr>\n",
              "      <th>area_primer_piso</th>\n",
              "      <td>0.616557</td>\n",
              "    </tr>\n",
              "    <tr>\n",
              "      <th>cantidad_banos</th>\n",
              "      <td>0.563132</td>\n",
              "    </tr>\n",
              "    <tr>\n",
              "      <th>calidad_de_cocina_excelente</th>\n",
              "      <td>0.496223</td>\n",
              "    </tr>\n",
              "    <tr>\n",
              "      <th>area_segundo_piso</th>\n",
              "      <td>0.305311</td>\n",
              "    </tr>\n",
              "    <tr>\n",
              "      <th>tiene_segundo_piso</th>\n",
              "      <td>0.138541</td>\n",
              "    </tr>\n",
              "  </tbody>\n",
              "</table>\n",
              "</div><br><label><b>dtype:</b> float64</label>"
            ]
          },
          "metadata": {},
          "execution_count": 5
        }
      ]
    },
    {
      "cell_type": "code",
      "source": [
        "corr['area_primer_piso'].sort_values(ascending=False)"
      ],
      "metadata": {
        "colab": {
          "base_uri": "https://localhost:8080/",
          "height": 304
        },
        "id": "5x28rxEzNyMp",
        "outputId": "3028326d-041b-48ca-ca53-8b08431a965e"
      },
      "execution_count": 6,
      "outputs": [
        {
          "output_type": "execute_result",
          "data": {
            "text/plain": [
              "area_primer_piso               1.000000\n",
              "precio_de_venta                0.616557\n",
              "capacidad_carros_garage        0.481231\n",
              "cantidad_banos                 0.369368\n",
              "calidad_de_cocina_excelente    0.323496\n",
              "area_segundo_piso             -0.253793\n",
              "tiene_segundo_piso            -0.376805\n",
              "Name: area_primer_piso, dtype: float64"
            ],
            "text/html": [
              "<div>\n",
              "<style scoped>\n",
              "    .dataframe tbody tr th:only-of-type {\n",
              "        vertical-align: middle;\n",
              "    }\n",
              "\n",
              "    .dataframe tbody tr th {\n",
              "        vertical-align: top;\n",
              "    }\n",
              "\n",
              "    .dataframe thead th {\n",
              "        text-align: right;\n",
              "    }\n",
              "</style>\n",
              "<table border=\"1\" class=\"dataframe\">\n",
              "  <thead>\n",
              "    <tr style=\"text-align: right;\">\n",
              "      <th></th>\n",
              "      <th>area_primer_piso</th>\n",
              "    </tr>\n",
              "  </thead>\n",
              "  <tbody>\n",
              "    <tr>\n",
              "      <th>area_primer_piso</th>\n",
              "      <td>1.000000</td>\n",
              "    </tr>\n",
              "    <tr>\n",
              "      <th>precio_de_venta</th>\n",
              "      <td>0.616557</td>\n",
              "    </tr>\n",
              "    <tr>\n",
              "      <th>capacidad_carros_garage</th>\n",
              "      <td>0.481231</td>\n",
              "    </tr>\n",
              "    <tr>\n",
              "      <th>cantidad_banos</th>\n",
              "      <td>0.369368</td>\n",
              "    </tr>\n",
              "    <tr>\n",
              "      <th>calidad_de_cocina_excelente</th>\n",
              "      <td>0.323496</td>\n",
              "    </tr>\n",
              "    <tr>\n",
              "      <th>area_segundo_piso</th>\n",
              "      <td>-0.253793</td>\n",
              "    </tr>\n",
              "    <tr>\n",
              "      <th>tiene_segundo_piso</th>\n",
              "      <td>-0.376805</td>\n",
              "    </tr>\n",
              "  </tbody>\n",
              "</table>\n",
              "</div><br><label><b>dtype:</b> float64</label>"
            ]
          },
          "metadata": {},
          "execution_count": 6
        }
      ]
    },
    {
      "cell_type": "code",
      "execution_count": 7,
      "metadata": {
        "id": "grbenA73mKGp",
        "colab": {
          "base_uri": "https://localhost:8080/"
        },
        "outputId": "7ca221c8-727c-4d93-ee64-18c6f0843fad"
      },
      "outputs": [
        {
          "output_type": "stream",
          "name": "stdout",
          "text": [
            "La mejor correlación de area_primer_piso es con precio_de_venta     0.62\n",
            "area_primer_piso    1.00\n",
            "Name: area_primer_piso, dtype: float64\n",
            "--------------------------------------------------------------------------------\n",
            "La peor correlación de area_primer_piso es con tiene_segundo_piso   -0.38\n",
            "Name: area_primer_piso, dtype: float64\n",
            "--------------------------------------------------------------------------------\n",
            "--------------------------------------------------------------------------------\n",
            "La mejor correlación de tiene_segundo_piso es con area_segundo_piso     0.92\n",
            "tiene_segundo_piso    1.00\n",
            "Name: tiene_segundo_piso, dtype: float64\n",
            "--------------------------------------------------------------------------------\n",
            "La peor correlación de tiene_segundo_piso es con area_primer_piso   -0.38\n",
            "Name: tiene_segundo_piso, dtype: float64\n",
            "--------------------------------------------------------------------------------\n",
            "--------------------------------------------------------------------------------\n",
            "La mejor correlación de area_segundo_piso es con tiene_segundo_piso    0.92\n",
            "area_segundo_piso     1.00\n",
            "Name: area_segundo_piso, dtype: float64\n",
            "--------------------------------------------------------------------------------\n",
            "La peor correlación de area_segundo_piso es con area_primer_piso   -0.25\n",
            "Name: area_segundo_piso, dtype: float64\n",
            "--------------------------------------------------------------------------------\n",
            "--------------------------------------------------------------------------------\n",
            "La mejor correlación de cantidad_banos es con precio_de_venta    0.56\n",
            "cantidad_banos     1.00\n",
            "Name: cantidad_banos, dtype: float64\n",
            "--------------------------------------------------------------------------------\n",
            "La peor correlación de cantidad_banos es con calidad_de_cocina_excelente    0.15\n",
            "Name: cantidad_banos, dtype: float64\n",
            "--------------------------------------------------------------------------------\n",
            "--------------------------------------------------------------------------------\n",
            "La mejor correlación de capacidad_carros_garage es con precio_de_venta            0.64\n",
            "capacidad_carros_garage    1.00\n",
            "Name: capacidad_carros_garage, dtype: float64\n",
            "--------------------------------------------------------------------------------\n",
            "La peor correlación de capacidad_carros_garage es con tiene_segundo_piso   -0.0\n",
            "Name: capacidad_carros_garage, dtype: float64\n",
            "--------------------------------------------------------------------------------\n",
            "--------------------------------------------------------------------------------\n",
            "La mejor correlación de calidad_de_cocina_excelente es con precio_de_venta                0.5\n",
            "calidad_de_cocina_excelente    1.0\n",
            "Name: calidad_de_cocina_excelente, dtype: float64\n",
            "--------------------------------------------------------------------------------\n",
            "La peor correlación de calidad_de_cocina_excelente es con tiene_segundo_piso   -0.02\n",
            "Name: calidad_de_cocina_excelente, dtype: float64\n",
            "--------------------------------------------------------------------------------\n",
            "--------------------------------------------------------------------------------\n",
            "La mejor correlación de precio_de_venta es con capacidad_carros_garage    0.64\n",
            "precio_de_venta            1.00\n",
            "Name: precio_de_venta, dtype: float64\n",
            "--------------------------------------------------------------------------------\n",
            "La peor correlación de precio_de_venta es con tiene_segundo_piso    0.14\n",
            "Name: precio_de_venta, dtype: float64\n",
            "--------------------------------------------------------------------------------\n",
            "--------------------------------------------------------------------------------\n"
          ]
        }
      ],
      "source": [
        "# Actividad\n",
        "# Cuáles factores están más correlacionados?\n",
        "for i in corr:\n",
        "  print(f'La mejor correlación de {i} es con {corr[i].sort_values(ascending=True).tail(2).round(2)}')\n",
        "  print(f'--------------------------------------------------------------------------------')\n",
        "  print(f'La peor correlación de {i} es con {corr[i].sort_values(ascending=True).head(1).round(2)}')\n",
        "  print(f'--------------------------------------------------------------------------------')\n",
        "  print(f'--------------------------------------------------------------------------------')\n"
      ]
    },
    {
      "cell_type": "markdown",
      "source": [
        "# Ejercicio:\n",
        "\n",
        "¿Vamos a practicar el concepto de correlación?\n",
        "\n",
        "Durante la clase, exploramos la correlación entre cada característica de la casa y su precio; sin embargo, el coeficiente de correlación también se puede aplicar a cualquier par de variables.\n",
        "\n",
        "En esta actividad, analiza la correlación de todas las variables a través de una forma visual, ejecutando el código a continuación en una celda de tu notebook."
      ],
      "metadata": {
        "id": "cvupn_VSS_ee"
      }
    },
    {
      "cell_type": "code",
      "source": [
        "# Actividad\n",
        "#import pandas as pd\n",
        "import numpy as np\n",
        "import matplotlib.pyplot as plt\n",
        "import seaborn as sns\n",
        "\n",
        "# Leyendo datos\n",
        "#datos = pd.read_csv(\"/content/Precios_de_casas.csv\")\n",
        "#datos = datos.drop(columns = \"Id\")\n",
        "\n",
        "# Correlación\n",
        "#corr = datos.corr()\n",
        "\n",
        "# ¿Qué factores están más correlacionados?\n",
        "\n",
        "# Generar una máscara para el triángulo superior\n",
        "mascara = np.zeros_like(corr, dtype=bool)\n",
        "mascara[np.triu_indices_from(mascara)] = True\n",
        "\n",
        "# Configurar la figura de matplotlib\n",
        "f, ax = plt.subplots(figsize=(15, 5))\n",
        "\n",
        "# Generar el mapa de calor (heatmap)\n",
        "cmap = sns.diverging_palette(220, 10, as_cmap=True)\n",
        "\n",
        "sns.heatmap(corr, mask=mascara, cmap=cmap, vmax=1, vmin=-1, center=0,\n",
        "            square=True, linewidths=.5, annot=True, cbar_kws={\"shrink\": .5})\n",
        "\n",
        "# Mostrar el mapa de calor (heatmap)\n",
        "plt.show()"
      ],
      "metadata": {
        "colab": {
          "base_uri": "https://localhost:8080/",
          "height": 632
        },
        "id": "_coMs7h6THuR",
        "outputId": "e410a4c3-8621-4096-d3a6-e8cd72c4e6e2"
      },
      "execution_count": 8,
      "outputs": [
        {
          "output_type": "display_data",
          "data": {
            "text/plain": [
              "<Figure size 1500x500 with 2 Axes>"
            ],
            "image/png": "[encoded data removed]"
          },
          "metadata": {}
        }
      ]
    },
    {
      "cell_type": "markdown",
      "metadata": {
        "id": "ICnyF93ko09b"
      },
      "source": [
        "## Relacionando variables"
      ]
    },
    {
      "cell_type": "code",
      "source": [
        "# importando los paquetes para la visualización\n",
        "import matplotlib.pyplot as plt\n",
        "import seaborn as sns\n",
        "import plotly.express as px\n"
      ],
      "metadata": {
        "id": "5ugjBgZxsUyh"
      },
      "execution_count": 9,
      "outputs": []
    },
    {
      "cell_type": "code",
      "execution_count": 10,
      "metadata": {
        "id": "inoJird2mKJm",
        "colab": {
          "base_uri": "https://localhost:8080/",
          "height": 472
        },
        "outputId": "cc931c3a-9c63-454a-8c99-4952936d9be0"
      },
      "outputs": [
        {
          "output_type": "display_data",
          "data": {
            "text/plain": [
              "<Figure size 640x480 with 1 Axes>"
            ],
            "image/png": "[encoded data removed]"
          },
          "metadata": {}
        }
      ],
      "source": [
        "# Cómo se relacionan el área construída y el precio del inmueble?\n",
        "plt.scatter(datos['area_primer_piso'], datos['precio_de_venta'])\n",
        "plt.title('Precio de venta en función del área construida')\n",
        "plt.xlabel('Área construida (m2)')\n",
        "plt.ylabel('Precio de venta (USD Mill)')\n",
        "plt.show()"
      ]
    },
    {
      "cell_type": "code",
      "execution_count": 11,
      "metadata": {
        "id": "RJXgcH6HuAix",
        "colab": {
          "base_uri": "https://localhost:8080/",
          "height": 472
        },
        "outputId": "a7347ca0-db13-48b1-e78d-a2902e9b7214"
      },
      "outputs": [
        {
          "output_type": "display_data",
          "data": {
            "text/plain": [
              "<Figure size 640x480 with 1 Axes>"
            ],
            "image/png": "[encoded data removed]"
          },
          "metadata": {}
        }
      ],
      "source": [
        "# Aparentemente mientras mayor es el área del primer piso, mayor es el precio de la casa.\n",
        "# E si quisieramos trazar una línea que nos permita describir este comportamiento?\n",
        "plt.scatter(datos['area_primer_piso'], datos['precio_de_venta'])\n",
        "plt.axline(xy1=(40, 300000), xy2=(175, 1500000), color='red')   # Agrego una recta entre dos puntos (40m2 y 300mil hasta 175m2 y 1,5mill)\n",
        "plt.title('Precio de venta en función del área construida')\n",
        "plt.xlabel('Área construida (m2)')\n",
        "plt.ylabel('Precio de venta (USD Mill)')\n",
        "plt.show()"
      ]
    },
    {
      "cell_type": "markdown",
      "metadata": {
        "id": "m8FFVV3FsuOh"
      },
      "source": [
        "## Mejor recta"
      ]
    },
    {
      "cell_type": "code",
      "execution_count": 12,
      "metadata": {
        "id": "1gDwrX_KvS_9",
        "colab": {
          "base_uri": "https://localhost:8080/",
          "height": 542
        },
        "outputId": "3176816a-1176-47c0-8b90-09a7b2c9a2b7"
      },
      "outputs": [
        {
          "output_type": "display_data",
          "data": {
            "text/html": [
              "<html>\n",
              "<head><meta charset=\"utf-8\" /></head>\n",
              "<body>\n",
              "    <div>            <script src=\"https://cdnjs.cloudflare.com/ajax/libs/mathjax/2.7.5/MathJax.js?config=TeX-AMS-MML_SVG\"></script><script type=\"text/javascript\">if (window.MathJax && window.MathJax.Hub && window.MathJax.Hub.Config) {window.MathJax.Hub.Config({SVG: {font: \"STIX-Web\"}});}</script>                <script type=\"text/javascript\">window.PlotlyConfig = {MathJaxConfig: 'local'};</script>\n",
              "        <script charset=\"utf-8\" src=\"https://cdn.plot.ly/plotly-2.35.2.min.js\"></script>                <div id=\"a1648153-b4a2-4aea-a71b-365a6ff15fdb\" class=\"plotly-graph-div\" style=\"height:525px; width:100%;\"></div>            <script type=\"text/javascript\">                                    window.PLOTLYENV=window.PLOTLYENV || {};                                    if (document.getElementById(\"a1648153-b4a2-4aea-a71b-365a6ff15fdb\")) {                    Plotly.newPlot(                        \"a1648153-b4a2-4aea-a71b-365a6ff15fdb\",                        [{\"hovertemplate\":\"area_primer_piso=%{x}\\u003cbr\\u003eprecio_de_venta=%{y}\\u003cextra\\u003e\\u003c\\u002fextra\\u003e\",\"legendgroup\":\"\",\"marker\":{\"color\":\"#636efa\",\"symbol\":\"circle\"},\"mode\":\"markers\",\"name\":\"\",\"showlegend\":false,\"x\":[79.52239999999999,117.2398,85.468,89.2769,106.3705,73.94839999999999,157.3726,102.8403,94.9438,100.0533,96.616,109.8078,84.7248,138.7926,116.4037,79.33659999999999,93.2716,120.3984,103.4906,124.3931,107.5782,102.9332,166.75549999999998,98.474,98.474,148.64,83.61,158.3016,148.64,48.308,60.2921,114.0812,114.6386,157.93,145.0169,105.1628,101.9113,120.4913,98.1953,107.0208,122.9996,123.3712,82.1236,87.1402,106.835,162.7608,141.0222,153.8424,68.3744,88.7195,73.76259999999999,75.8064,75.8064,126.344,132.3825,91.3207,79.89399999999999,132.4754,72.462,107.5782,53.9749,127.273,83.7958,98.1953,106.1847,205.0303,137.3991,69.3963,121.1416,206.5167,78.5005,82.2165,100.8894,78.036,48.8654,88.4408,99.5888,164.2472,63.3578,109.8078,124.2073,145.2027,98.9385,74.6916,120.8629,63.5436,56.8548,94.1077,91.971,96.616,114.7315,89.5556,117.054,84.0745,63.172,147.52519999999998,89.184,77.5715,113.8025,149.569,90.7633,142.6015,113.8954,113.8954,97.8237,97.2663,73.29809999999999,92.6213,171.30759999999998,112.9664,71.9046,119.0978,209.8611,133.40439999999998,67.72409999999999,101.4468,104.5125,157.8371,67.63119999999999,91.7852,71.7188,100.332,111.3871,147.33939999999998,48.308,88.9982,78.036,61.314,97.8237,112.9664,94.9438,123.2783,120.3984,159.8809,156.2578,112.7806,181.9911,93.2716,86.21119999999999,80.26559999999999,161.0886,84.539,139.4429,160.53119999999998,90.113,81.2875,82.1236,100.332,83.2384,90.0201,158.85899999999998,101.9113,116.3108,111.48,53.1388,96.616,71.9046,92.0639,129.3168,114.4528,146.03879999999998,143.1589,81.9378,106.7421,75.0632,173.4443,149.569,78.036,158.5803,79.33659999999999,153.8424,98.8456,126.5298,153.37789999999998,200.4782,108.1356,116.3108,207.5386,89.9272,71.4401,83.7029,124.486,126.5298,86.95439999999999,141.0222,113.0593,75.0632,113.7096,147.9897,143.9021,67.35249999999999,132.9399,90.113,80.26559999999999,79.42949999999999,160.34539999999998,126.344,86.30409999999999,159.1377,104.1409,118.8191,80.35849999999999,78.7792,66.88799999999999,133.96179999999998,157.5584,102.19,109.622,101.4468,80.26559999999999,112.5948,86.58279999999999,91.971,64.0081,114.8244,133.40439999999998,75.249,105.6273,115.9392,139.1642,93.829,75.3419,80.26559999999999,222.2168,58.527,112.7806,44.8707,84.7248,144.4595,110.9226,138.421,44.8707,83.0526,79.89399999999999,44.8707,131.3606,94.2006,157.3726,74.13419999999999,145.4814,80.45139999999999,82.5881,58.1554,113.5238,173.9088,84.3532,127.7375,78.036,121.3274,150.9625,74.13419999999999,120.9558,122.0706,93.3645,80.26559999999999,149.0116,89.4627,81.9378,128.3878,137.6778,112.5948,86.02539999999999,70.9756,132.1038,74.5058,97.7308,72.2762,103.3977,101.7255,126.6227,108.1356,151.6128,75.8064,88.4408,144.924,80.26559999999999,197.0409,107.3924,109.1575,117.2398,122.0706,136.3772,146.3175,58.0625,100.7965,79.70819999999999,83.61,64.8442,100.2391,86.95439999999999,106.6492,136.3772,152.7276,93.1787,84.539,90.5775,96.7089,107.0208,124.1144,112.409,143.1589,83.0526,155.6075,185.8,104.2338,96.1515,79.98689999999999,180.5976,64.7513,90.2988,73.66969999999999,77.2928,66.5164,107.1137,101.0752,127.4588,136.7488,116.0321,105.5344,144.2737,108.0427,176.3242,74.5987,159.6951,128.48069999999998,134.2405,55.3684,160.53119999999998,98.1024,151.3341,126.1582,87.6047,178.5538,142.6944,150.5909,112.8735,92.2497,78.1289,96.616,156.4436,49.7944,90.2988,88.9982,137.3062,70.9756,171.67919999999998,173.6301,134.9837,57.2264,66.88799999999999,110.7368,111.48,108.4143,106.0918,125.6008,100.8894,84.7248,91.7852,45.9855,44.8707,73.39099999999999,62.4288,129.5026,132.9399,117.7972,119.5623,88.5337,104.048,69.8608,122.5351,78.6863,83.9816,84.9106,146.78199999999998,172.42239999999998,93.5503,95.3154,120.8629,87.2331,72.8336,117.8901,61.1282,104.5125,137.3991,161.8318,89.2769,74.6916,81.9378,73.20519999999999,68.2815,106.2776,83.0526,81.3804,100.0533,103.3048,119.6552,121.699,62.4288,108.2285,74.8774,150.498,108.3214,78.036,99.4959,97.545,118.5404,98.1024,137.3062,95.5012,100.332,124.486,62.4288,127.273,70.2324,98.1024,124.8576,148.8258,91.7852,136.563,111.1084,65.6803,152.7276,84.2603,112.2232,131.1748,44.8707,101.0752,71.0685,86.02539999999999,58.527,76.8283,68.1886,83.9816,64.4726,63.5436,223.1458,133.77599999999998,104.7912,116.8682,86.67569999999999,156.9081,175.3952,88.8124,72.462,63.0791,75.5277,82.4952,73.01939999999999,160.53119999999998,115.3818,57.9696,77.3857,90.9491,77.2928,53.4175,80.26559999999999,78.8721,96.616,131.3606,118.6333,82.4952,151.7986,77.2928,139.5358,107.8569,99.5888,183.5704,153.4708,90.113,138.6997,192.2101,159.60219999999998,105.0699,171.86499999999998,166.4768,85.0964,112.9664,92.8071,103.3977,99.6817,137.8636,164.0614,58.527,57.2264,88.9982,67.63119999999999,117.8901,82.3094,66.88799999999999,105.2557,83.5171,84.7248,62.4288,80.45139999999999,112.7806,167.31289999999998,79.42949999999999,89.184,98.9385,113.1522,64.0081,96.7089,126.6227,127.0872,80.26559999999999,100.332,73.29809999999999,187.658,128.0162,118.6333,81.9378,118.5404,64.4726,115.5676,93.2716,128.48069999999998,117.6114,86.21119999999999,137.1204,56.2045,140.18609999999998,69.7679,76.8283,31.0286,65.6803,76.178,81.752,80.26559999999999,107.6711,148.7329,170.7502,92.6213,156.072,71.2543,61.6856,127.9233,85.0035,71.3472,76.6425,84.7248,99.3101,86.21119999999999,159.5093,104.6054,93.4574,97.3592,101.4468,83.3313,67.72409999999999,144.6453,129.3168,129.0381,92.5284,108.0427,108.3214,78.1289,105.3486,142.6015,138.9784,87.6047,160.53119999999998,80.26559999999999,78.5934,71.9046,53.5104,77.2928,81.4733,122.628,65.3087,97.545,132.7541,189.7018,75.8064,141.30089999999998,91.8781,188.4012,77.8502,79.89399999999999,136.8417,72.3691,71.533,160.53119999999998,75.8064,78.7792,85.83959999999999,169.6354,63.5436,130.2458,153.00629999999998,66.5164,98.2882,72.462,86.11829999999999,55.74,138.7926,110.1794,96.616,103.3048,180.226,95.5941,137.1204,95.8728,120.6771,104.048,58.527,97.9166,74.9703,77.2928,169.8212,137.6778,80.26559999999999,143.8092,91.042,70.2324,94.0148,103.6764,132.1038,141.208,96.616,125.415,101.1681,144.3666,131.0819,98.1024,98.1024,74.32,75.3419,73.94839999999999,145.5743,141.0222,98.1953,185.8,72.462,164.0614,91.1349,97.3592,101.6326,97.6379,58.527,76.3638,70.1395,84.4461,70.2324,196.2977,48.7725,97.8237,79.0579,84.7248,138.0494,106.0918,129.3168,109.7149,194.8113,135.07659999999998,136.0985,155.9791,133.4973,109.622,68.5602,64.7513,112.2232,170.8431,105.5344,79.42949999999999,101.7255,73.57679999999999,190.0734,91.7852,85.74669999999999,78.7792,119.9339,154.9572,111.0155,110.551,81.1946,51.1879,131.8251,126.5298,78.7792,115.0102,99.6817,99.1243,105.6273,57.2264,106.6492,83.0526,129.2239,167.22,108.1356,117.4256,95.8728,137.8636,34.5588,122.9996,67.63119999999999,83.9816,67.72409999999999,79.80109999999999,114.0812,89.184,67.35249999999999,125.415,146.41039999999998,109.4362,123.0925,90.2059,161.8318,78.7792,80.26559999999999,92.6213,157.7442,80.26559999999999,156.072,114.4528,164.9904,78.7792,150.1264,106.4634,107.1137,106.2776,88.0692,81.752,96.616,83.7029,111.48,80.26559999999999,71.3472,84.7248,125.3221,136.0056,124.2073,109.1575,91.042,122.628,159.78799999999998,101.0752,73.57679999999999,61.314,138.7926,96.4302,95.3154,68.9318,80.45139999999999,62.4288,70.3253,123.3712,80.26559999999999,120.8629,70.9756,117.7972,138.7926,139.9074,91.042,91.3207,170.5644,79.70819999999999,113.338,103.7693,84.7248,183.2917,111.8516,149.9406,83.0526,187.658,93.2716,116.4037,75.249,132.847,103.119,68.9318,124.6718,89.7414,88.8124,83.7029,90.6704,106.3705,98.6598,104.6983,138.9784,100.8894,82.4952,119.3765,71.8117,182.6414,91.1349,57.2264,111.1084,67.63119999999999,161.0886,104.7912,132.6612,91.042,99.5888,100.8894,99.8675,121.6061,78.7792,96.9876,133.96179999999998,63.7294,154.30689999999998,93.6432,156.9081,97.7308,126.1582,74.13419999999999,86.95439999999999,78.6863,87.6976,138.3281,193.6036,72.8336,133.21859999999998,107.764,48.308,129.3168,48.308,87.4189,140.8364,106.2776,99.1243,144.8311,44.8707,102.0971,71.3472,75.249,88.9982,108.2285,167.22,81.3804,158.0229,93.4574,80.26559999999999,101.6326,78.7792,135.2624,85.2822,134.2405,165.26909999999998,96.616,95.3154,65.2158,127.273,140.4648,84.7248,96.5231,101.9113,106.6492,127.4588,93.0858,152.9134,104.048,143.7163,98.6598,83.0526,74.6916,84.539,96.2444,62.8004,109.9936,96.616,135.8198,107.2995,80.26559999999999,101.261,110.2723,75.0632,88.6266,82.8668,158.7661,159.04479999999998,81.0088,205.9593,139.81449999999998,62.4288,85.2822,99.2172,128.48069999999998,142.6015,91.3207,88.3479,104.048,219.6156,114.8244,79.70819999999999,121.3274,74.9703,155.143,83.7958,98.7527,151.9844,94.758,83.7958,68.9318,102.6545,117.7972,94.2935,92.9929,56.8548,50.7234,44.592,114.1741,84.7248,131.3606,86.95439999999999,118.1688,122.2564,150.2193,156.6294,104.6054,114.6386,102.0042,166.1052,92.2497,136.1914,85.93249999999999,176.9745,139.35,192.2101,69.3963,111.48,103.3977,129.2239,112.1303,160.53119999999998,94.9438,133.77599999999998,151.6128,124.8576,110.3652,106.2776,151.3341,86.95439999999999,128.29489999999998,80.26559999999999,89.6485,71.3472,108.5072,91.042,90.9491,52.1169,98.1953,124.2073,64.6584,79.70819999999999,143.2518,74.6916,167.22,76.5496,72.7407,90.6704,102.0042,55.74,101.7255,66.88799999999999,70.9756,85.2822,132.6612,105.5344,62.5217,80.7301,115.2889,83.0526,104.1409,92.8071,118.5404,117.6114,106.7421,120.9558,108.1356,92.9929,180.226,103.8622,72.2762,130.7103,85.0964,94.758,69.675,159.60219999999998,71.9046,97.545,133.96179999999998,100.0533,112.2232,87.6976,64.1939,146.22459999999998,156.072,139.7216,91.5065,153.93529999999998,50.7234,158.85899999999998,93.6432,66.88799999999999,154.5856,83.61,94.9438,100.5178,75.249,139.7216,126.344,74.5058,139.9074,105.1628,113.338,84.7248,139.7216,81.9378,117.4256,152.9134,89.9272,62.4288,88.0692,156.7223,125.6008,153.6566,88.6266,78.5005,150.498,98.0095,74.13419999999999,58.527,167.4987,74.32,121.3274,142.3228,160.9957,185.0568,91.971,164.5259,86.39699999999999,120.9558,122.2564,104.6983,141.7654,101.3539,141.48669999999998,126.7156,90.9491,104.977,101.8184,124.3002,83.0526,132.1038,102.4687,107.2066,121.3274,74.2271,74.13419999999999,119.9339,82.9597,97.3592,77.0141,93.0858,64.8442,115.196,89.184,101.8184,101.8184,78.7792,91.971,116.8682,96.616,135.5411,116.2179,64.1939,92.5284,50.7234,100.5178,90.113,115.8463,96.616,57.9696,129.131,111.48,86.95439999999999,122.0706,71.8117,101.0752,70.3253,148.7329,40.6902,88.255,105.3486,110.9226,58.527,139.35,133.96179999999998,82.4023,88.0692,170.5644,71.8117,102.0042,75.8064,93.6432,77.3857,161.0886,72.3691,83.0526,94.8509,96.616,94.0148,144.1808,89.184,64.8442,75.4348,93.3645,144.4595,142.137,78.6863,86.95439999999999,123.3712,90.4846,109.4362,106.0918,85.0964,91.5994,95.8728,72.462,145.5743,108.4143,88.4408,101.0752,136.1914,93.4574,62.4288,96.8018,120.5842,79.89399999999999,53.1388,77.2928,86.58279999999999,136.1914,168.2419,75.8064,83.7958,133.4973,117.5185,122.0706,146.78199999999998,87.6047,79.42949999999999,152.356,83.0526,116.8682,133.0328,139.5358,157.3726,89.0911,114.8244,170.0999,103.8622,117.1469,58.0625,151.9844,108.693,197.7841,85.74669999999999,75.9922,76.178,104.4196,120.5842,153.4708,104.977,146.03879999999998,88.1621,94.2006,150.8696,77.1999,95.5012,150.6838,70.9756,78.2218,113.7096,61.5927,67.63119999999999,81.6591,75.7135,112.5948,128.3878,80.26559999999999,80.45139999999999,82.1236,151.427,99.7746,204.0084,98.1024,157.93,119.1907,154.214,98.0095,100.332,62.4288,89.184,92.8071,83.0526,122.4422,122.0706,62.4288,62.4288,84.7248,112.5019,108.5072,198.4344,73.20519999999999,105.7202,83.0526,84.7248,158.1158,140.00029999999998,126.4369,110.551,113.7096,110.3652,95.1296,82.8668,70.9756,78.6863,105.9989,137.8636,82.1236,156.9081,108.9717,192.8604,73.57679999999999,105.906,70.2324,96.0586,105.3486,91.7852,196.019,130.5245,81.1946,140.8364,70.604,89.0911,184.5923,80.26559999999999,108.3214,97.9166,82.8668,97.545,102.5616,98.474,124.2073,66.2377,89.5556,187.4722,182.8272,81.1946,123.7428,138.3281,86.86149999999999,126.0653,61.4069,86.21119999999999,68.2815,160.15959999999998,104.7912,64.8442,146.1317,124.3931,96.616,84.7248,157.8371,76.6425,123.3712,146.96779999999998,154.12109999999998,104.048,107.0208,58.527,128.0162,77.2928,80.26559999999999,97.7308,104.7912,99.5888,115.7534,93.3645,69.9537,111.7587,150.1264,90.6704,153.4708,127.0872,91.971,104.2338,120.2126,176.6958,118.3546,134.9837,132.1038,88.0692,101.4468,151.427,125.6008,166.01229999999998,88.0692,137.3062,66.88799999999999,98.5669,65.7732,166.75549999999998,73.94839999999999,71.9046,75.8064,147.15359999999998,88.7195,147.52519999999998,88.6266,75.8064,74.5987,71.0685,123.9286,153.8424,64.3797,85.468,80.26559999999999,81.0088,103.4906,119.2836,108.8788,67.63119999999999,89.184,200.2924,164.9904,138.7926,87.1402,124.3002,79.70819999999999,73.01939999999999,190.7237,92.1568,113.5238,82.8668,100.1462,71.4401,183.942,91.971,142.137,119.0049,57.2264,48.308,75.6206,81.9378,85.93249999999999,78.7792,154.9572,78.036,154.30689999999998,102.9332,95.3154,145.9459,73.39099999999999,91.4136,44.8707,70.0466,80.26559999999999,196.6693,92.7142,131.5464,64.8442,73.94839999999999,129.3168,154.5856,162.2034,80.7301,141.6725,147.15359999999998,83.61,113.4309,139.35,105.2557,87.2331,105.5344,107.764,88.255,80.26559999999999,120.2126,136.0056,64.4726,152.9134,71.3472,77.3857,68.8389,114.8244,87.6976,103.3048,96.616,171.30759999999998,97.8237,145.7601,115.7534,121.699,106.2776,171.30759999999998,65.7732,99.3101,78.7792,146.3175,124.8576,116.3108,113.6167,97.3592,74.6916,133.77599999999998,68.1886,88.9982,89.9272,89.3698,104.6054,142.7873,80.26559999999999,179.4828,114.8244,96.616,132.1967,78.7792,95.3154,88.4408,132.1038,84.8177,110.3652,113.338,73.94839999999999,58.527,83.2384,146.59619999999998,99.5888,105.906,113.4309,88.5337,192.5817,110.3652,100.1462,116.6824],\"xaxis\":\"x\",\"y\":[1027905.0,894795.0,1101855.0,690200.0,1232500.0,704990.0,1513510.0,986000.0,640407.0,581740.0,638435.0,1700850.0,709920.0,1377935.0,774010.0,650760.0,734570.0,443700.0,783870.0,685270.0,1603729.0,687242.0,1133900.0,640407.0,759220.0,1263559.0,664564.0,1508580.0,1022975.0,337705.0,197200.0,736295.5,886907.0,815915.0,1368075.0,1523370.0,714850.0,754290.0,537370.0,404260.0,788800.0,838100.0,709920.0,642132.5,695130.0,1577107.0,1181651.98,1231021.0,557090.0,626110.0,872610.0,564485.0,542300.0,640900.0,889865.0,850425.0,968745.0,2163185.4,615757.0,778940.0,497930.0,998325.0,690200.0,1082135.0,1562810.0,887400.0,1114180.0,394400.0,1109250.0,1202920.0,638435.0,912050.0,714357.0,529482.0,448630.0,669247.5,626110.0,672945.0,542300.0,953955.0,756755.0,1207850.0,623645.0,830705.0,1281800.0,857820.0,810985.0,419050.0,609348.0,541807.0,486098.0,806055.0,660127.0,1009417.5,912050.0,1055020.0,467117.5,409190.0,635723.5,1010650.0,877540.0,586492.52,980577.0,835635.0,1232500.0,493000.0,566950.0,566950.0,936700.0,674917.0,887400.0,1892972.1,1069810.0,1279335.0,867680.0,685270.0,764150.0,1577600.0,808470.7,887400.0,493000.0,670480.0,758727.0,892330.0,416585.0,631040.0,428910.0,764150.0,739500.0,1114180.0,1202920.0,743197.5,1084600.0,887400.0,857820.0,704990.0,843030.0,1133900.0,1141295.0,566950.0,1281800.0,818380.0,1005720.0,616250.0,640900.0,517650.0,1096925.0,695130.0,566950.0,601460.0,1835941.86,936700.0,1158550.0,616250.0,389470.0,539835.0,1328635.0,1256657.0,1577600.0,801125.0,2033625.0,1084600.0,508776.0,749360.0,628575.0,936700.0,1605326.3199999998,904655.0,1124040.0,633505.0,1059950.0,1178270.0,803590.0,907120.0,1197990.0,1040230.0,850425.0,2474056.41,493000.0,872610.0,986493.0,591600.0,986000.0,626110.0,2341750.0,852890.0,665550.0,755951.4099999999,1409980.0,1552950.0,907120.0,946560.0,640900.0,626110.0,732105.0,1537528.96,1158550.0,512720.0,1355257.0,690200.0,845495.0,552160.0,734570.0,542300.0,889865.0,709427.0,695130.0,1365610.0,714850.0,483140.0,916980.0,1245702.54,769080.0,797427.5,662838.5,1035300.0,527510.0,1535695.0,824493.2,1010157.0,986000.0,886907.0,478210.0,1904212.5,552160.0,1429700.0,522580.0,616250.0,949025.0,729640.0,1986790.0,465885.0,632026.0,1067345.0,441235.0,914515.0,958885.0,1567740.0,557090.0,1294125.0,544765.0,389470.0,591600.0,1010650.0,1190595.0,675410.0,690200.0,887400.0,377145.0,1158550.0,852890.0,778940.0,714850.0,1133900.0,1022975.0,1084600.0,1141295.0,478210.0,867680.0,1360680.0,744430.0,640900.0,359890.0,865215.0,912050.0,884935.0,594065.0,729640.0,1311380.0,1190595.0,1429700.0,685270.0,613785.0,1010650.0,990930.0,695130.0,2047419.14,946560.0,1126505.0,912050.0,1022975.0,1205878.0,883456.0,811971.0,783870.0,433840.0,601460.0,757124.75,1149823.9,669987.0,645830.0,1158550.0,823310.0,702525.0,749360.0,1178270.0,862750.0,781405.0,774010.0,1316310.0,1010650.0,739007.0,1454350.0,1508087.0,1109250.0,441235.0,406725.0,1774800.0,816408.0,650760.0,591107.0,877540.0,929305.0,1281800.0,1331100.0,1281800.0,924375.0,1689229.99,1745220.0,1483930.0,622042.75,1193060.0,428910.0,1597320.0,716082.5,1057485.0,384540.0,586670.0,685270.0,1400120.0,1020510.0,946560.0,1860710.18,1055020.0,998325.0,764150.0,1000297.0,404260.0,431375.0,1311380.0,419050.0,691186.0,746895.0,776475.0,759220.0,2155169.22,1568040.73,936700.0,468350.0,522087.0,690200.0,875075.0,852890.0,660620.0,640900.0,1380400.0,769080.0,714850.0,978605.0,581740.0,936700.0,724710.0,783870.0,813450.0,650760.0,798660.0,849932.0,662749.76,616250.0,606390.0,1082135.0,300730.0,729640.0,1676200.0,1944549.76,882470.0,626110.0,925607.5,1052555.0,374680.0,946560.0,399330.0,616250.0,941630.0,2100180.0,586670.0,1059950.0,525045.0,493000.0,537370.0,635970.0,606390.0,835635.0,330310.0,1188130.0,1210315.0,813400.7,532440.0,1271940.0,828240.0,739500.0,566950.0,872610.0,1380400.0,1674967.5,295800.0,714850.0,1094460.0,566950.0,1124040.0,892990.62,737035.0,1178270.0,621180.0,700060.0,1017059.0,1059950.0,557090.0,1552950.0,685270.0,665550.0,1355750.0,537409.44,963322.0,862750.0,421022.0,393907.0,603925.0,892330.0,399330.0,1045160.0,571880.0,586670.0,445425.5,542300.0,2736150.0,581740.0,803097.0,850425.0,1035300.0,628575.0,936700.0,985507.0,589135.0,591600.0,542300.0,1005720.0,1035300.0,926840.0,865215.0,483140.0,793730.0,542300.0,1298734.5499999998,764150.0,307548.19,930291.0,611320.0,881188.2,823310.0,722245.0,1232500.0,921910.0,1045160.0,936700.0,729640.0,2169200.0,1237430.0,653225.0,1029877.0,1873400.0,1464210.0,441092.03,1607180.0,1843820.0,764150.0,808520.0,653225.0,724710.0,769080.0,862750.0,788800.0,423980.0,566950.0,655690.0,851830.0499999999,764150.0,450109.0,172057.0,907120.0,640900.0,591600.0,557090.0,1117631.0,690200.0,1424770.0,724710.0,613785.0,1059950.0,1026919.0,793730.0,613785.0,812957.0,999138.45,640407.0,660620.0,475745.0,1986104.73,778940.0,1306450.0,1040230.0,1153620.0,523812.5,739500.0,783870.0,1556647.5,867680.0,650760.0,2200066.73,423980.0,862750.0,631040.0,529975.0,193749.0,877540.0,529975.0,926840.0,548462.5,778940.0,1340960.0,1552950.0,1222640.0,1051322.5,655690.0,885748.45,1128970.0,1035300.0,638435.0,616250.0,1296590.0,690200.0,554625.0,1259615.0,532440.0,1400120.0,557090.0,695130.0,532440.0,862750.0,1153620.0,598995.0,838100.0,532440.0,912050.0,1321240.0,631040.0,1602250.0,1055020.0,1560838.0,670282.7999999999,703018.0,591600.0,1106785.0,838100.0,685270.0,584205.0,714850.0,810985.0,719780.0,648295.0,896767.0,1248734.49,584205.0,1602250.0,655690.0,1823607.0,640900.0,675410.0,704990.0,391935.0,916487.0,2228113.5,680340.0,690200.0,542300.0,1572670.0,564504.72,957410.93,1072275.0,744430.0,1355750.0,695130.0,1084600.0,744430.0,1089530.0,1010650.0,749360.0,1109250.0,1770363.0,584205.0,1543090.0,729640.0,1289195.0,724710.0,372215.0,677875.0,903176.0,520115.0,1552028.09,1503650.0,330310.0,1183200.0,665550.0,830705.0,814189.5,788800.0,689707.0,754290.0,665550.0,830705.0,611320.0,1032835.0,406725.0,687242.0,709920.0,295800.0,458490.0,419050.0,1304285.73,1350820.0,1114180.0,1700850.0,749360.0,1828428.54,706222.5,484619.0,764150.0,764150.0,416585.0,1015333.5,532440.0,941630.0,665550.0,1725500.0,433840.0,717315.0,734570.0,480675.0,823310.0,975647.0,542300.0,677875.0,2085390.0,1136365.0,635970.0,953955.0,828240.0,677875.0,855355.0,510748.0,813450.0,1269475.0,690200.0,732105.0,428910.0,539835.0,1836425.0,633505.0,704990.0,786009.62,852890.0,1405050.0,1089530.0,1022975.0,1123423.75,733584.0,1932560.0,959871.0,695130.0,1651550.0,534806.4,697595.0,867680.0,438770.0,608855.0,682805.0,966280.0,1540625.0,690200.0,1784260.67,690200.0,1050090.0,271150.0,1252220.0,885132.2,541807.0,256360.0,506685.68,931770.0,635970.0,643365.0,813450.0,786335.0,774010.0,1681130.0,633505.0,1355750.0,704990.0,613785.0,665550.0,1577600.0,594065.0,1094460.0,958885.0,542300.0,507790.0,1165945.0,924375.0,1096925.0,647802.0,532440.0,803590.0,460955.0,1182707.0,882470.0,936700.0,650760.0,700060.0,882470.0,862750.0,887400.0,1478014.0,1163480.0,1311276.47,1283772.0,483140.0,475745.0,798660.0,1069810.0,1358215.0,769080.0,850425.0,1045160.0,783377.0,884442.0,1429700.0,628575.0,493000.0,1060936.0,1661410.0,1331100.0,1302170.76,968745.0,788800.0,1069006.41,665057.0,502860.0,527510.0,564485.0,1947350.0,798660.0,1091995.0,702525.0,709920.0,665550.0,867680.0,867187.0,922403.0,815915.0,631040.0,796195.0,685270.0,1148690.0,531947.0,924375.0,789786.0,723724.0,1330064.7,1109250.0,958885.0,843030.0,707455.0,542300.0,2391050.0,862750.0,986000.0,541807.0,931770.0,2873859.69,581740.0,1122462.4,668015.0,1101855.0,788553.5,522580.0,892330.0,712385.0,276045.49,778447.0,571880.0,1108757.0,675410.0,1336030.0,764150.0,1104320.0,902190.0,458490.0,1109250.0,687735.0,1146718.0,1898050.0,539835.0,931770.0,912050.0,726682.0,818380.0,744430.0,1168410.0,823310.0,689953.5,631040.0,756755.0,493000.0,709920.0,643365.0,690200.0,776475.0,862257.0,695130.0,758727.0,843030.0,1050090.0,658155.0,921910.0,648295.0,1059950.0,808520.0,778940.0,838100.0,626110.0,724710.0,857820.0,749360.0,1232500.0,936453.5,648295.0,749360.0,653225.0,1235359.4,732105.0,1227077.0,635970.0,833170.0,1163480.0,539835.0,988465.0,571880.0,655690.0,327845.0,1496141.61,651992.5,1725500.0,729640.0,672945.0,774010.0,924375.0,877540.0,584205.0,493000.0,1621477.0,714850.0,668015.0,1321240.0,737035.0,605897.0,850425.0,761685.0,813450.0,585969.94,690200.0,525045.0,704758.2899999999,3015469.01,665550.0,542300.0,754290.0,887400.0,1183200.0,618715.0,631040.0,1257150.0,1232500.0,645830.0,857820.0,760699.0,707455.0,433840.0,714850.0,856503.69,369750.0,174083.22999999998,665550.0,1173340.0,870145.0,990930.0,719287.0,838050.7,951490.0,1022975.0,862750.0,1405050.0,867680.0,1165945.0,1094460.0,990930.0,579275.0,1577600.0,936700.0,1193060.0,393907.0,911557.0,1247290.0,1182209.0699999998,1204892.0,743937.0,1055020.0,739500.0,704990.0,677875.0,615757.0,704990.0,1331100.0,949025.0,973675.0,635970.0,591107.0,660127.0,847960.0,628575.0,714850.0,611320.0,650760.0,912050.0,764150.0,574345.0,1340960.0,764150.0,1178270.0,1059457.0,881977.0,788800.0,665550.0,186847.0,690200.0,665550.0,852890.0,490535.0,897260.0,825775.0,813450.0,421515.0,985507.0,542300.0,685270.0,879512.0,1656480.0,788282.35,1261587.0,621180.0,616250.0,576810.0,1948296.56,961350.0,971210.0,1715640.0,828240.0,921910.0,857327.0,1663875.0,599488.0,672945.0,912050.0,448630.0,1015580.0,404260.0,423980.0,1143760.0,674941.6499999999,892330.0,739007.0,806055.0,433840.0,1183200.0,502860.0,665550.0,493000.0,813450.0,419050.0,587656.0,1119110.0,1000790.0,924375.0,788800.0,1052505.7,867680.0,956420.0,428910.0,941630.0,554625.0,825775.0,1444869.61,517650.0,581740.0,788800.0,971210.0,1528300.0,1133900.0,590367.5,414120.0,1555415.0,1414910.0,478210.0,394400.0,764150.0,852890.0,966280.0,1293040.4,688228.0,2743944.33,714850.0,566950.0,418557.0,870071.0499999999,986695.13,813450.0,712385.0,1257150.0,887400.0,916240.5,1222640.0,1651550.0,1084600.0,1052555.0,399330.0,443700.0,544765.0,759220.0,1617040.0,877540.0,827747.0,746402.0,665550.0,665550.0,759220.0,451095.0,786335.0,956420.0,1082135.0,838100.0,684284.0,768587.0,621180.0,714850.0,655690.0,946560.0,788800.0,924375.0,724710.0,411655.0,1242360.0,677875.0,971210.0,457997.0,788800.0,672945.0,719780.0,635970.0,869809.7599999999,626110.0,838100.0,631040.0,774010.0,295800.0,589135.0,665550.0,786335.0,522580.0,1602250.0,886907.0,1354394.25,892330.0,1380400.0,926840.0,1010650.0,640407.0,663085.0,576810.0,1567740.0,907613.0,640900.0,690200.0,659141.0,583712.0,1049597.0,552160.0,581740.0,808027.0,566950.0,857820.0,1276870.0,1059950.0,690200.0,665550.0,460955.0,579275.0,1180735.0,833170.0,502860.0,586670.0,463420.0,966280.0,709920.0,685270.0,973675.0,2094609.1,394400.0,394400.0,734570.0,887400.0,860285.0,576317.0,704990.0,611320.0,739007.0,1133900.0,594065.0,994874.0,1074740.0,886907.0,1133900.0,1159181.04,912050.0,719780.0,1104320.0,635970.0,537167.87,956420.0,1149528.1,1209575.5,852890.0,1158550.0,3081250.0,843030.0,803590.0,847467.0,988465.0,1178270.0,1405050.0,589135.0,566950.0,763657.0,458490.0,1232500.0,1935025.0,591600.0,920431.0,517157.0,468350.0,1291660.0,961350.0,931770.0,828240.0,857820.0,616250.0,813450.0,778940.0,867680.0,1080705.3,709920.0,877540.0,729640.0,572126.5,975647.0,576810.0,1050090.0,756755.0,1340467.0,527510.0,986000.0,690200.0,1429700.0,931770.0,808520.0,557090.0,714850.0,663085.0,616250.0,552160.0,1131218.0799999998,396865.0,451095.0,566950.0,660620.0,704990.0,679847.0,907120.0,714850.0,1055020.0,724710.0,1810759.42,626110.0,936700.0,653225.0,501874.0,700060.0,640900.0,684712.9099999999,865215.0,961350.0,702525.0,1310887.0,1108757.0,1224257.04,838100.0,2292450.0,1133900.0,877540.0,919445.0,837607.0,638435.0,586670.0,1202920.0,846727.5,640900.0,1449420.0,815422.0,628575.0,1486395.0,492507.0,936700.0,744430.0,892330.0,635477.0,796195.0,889865.0,892330.0,906627.0,601460.0,1866005.0,1878330.0,709920.0,1281800.0,915747.5,675410.0,872610.0,685270.0,675410.0,798660.0,975647.0,1168410.0,337212.0,1119110.0,887400.0,741965.0,685270.0,833170.0,653225.0,704990.0,936700.0,1370540.0,1385330.0,889865.0,589135.0,529975.0,803097.0,566950.0,682805.0,764150.0,690200.0,759220.0,1109250.0,875075.0,1429700.0,1143760.0,640900.0,1602250.0,998325.0,680340.0,724710.0,883456.0,1651550.0,1000790.0,1488860.0,1642518.24,586670.0,1020017.0,1456780.49,1029877.0,1355750.0,547230.0,771545.0,357425.0,936700.0,406725.0,724710.0,271150.0,389470.0,643365.0,1262080.0,870145.0,1119110.0,653225.0,493000.0,618715.0,616250.0,827747.0,665550.0,258825.0,986000.0,633505.0,606390.0,764150.0,1126505.0,872610.0,768266.5499999999,534905.0,1294125.0,1397472.59,1059950.0,601460.0,986000.0,843030.0,665057.0,2021300.0,1158550.0,838100.0,542300.0,739007.0,875075.0,1552950.0,931770.0,1281800.0,517157.0,773674.76,710669.36,1064880.0,951490.0,626110.0,709920.0,1143760.0,517650.0,815915.0,1352299.0,1232500.0,1178270.0,448630.0,576810.0,409190.0,825775.0,288405.0,1170875.0,774010.0,552160.0,517650.0,618715.0,1232500.0,670480.0,1861075.0,645830.0,1158550.0,611320.0,606390.0,803590.0,1215629.54,1386380.09,677875.0,680340.0,677628.5,591600.0,951490.0,955823.47,1394805.46,517650.0,1355750.0,655690.0,552160.0,618715.0,1059950.0,1133900.0,690200.0,443700.0,1267010.0,1020510.0,867187.0,603925.0,1676200.0,611320.0,1099390.0,886907.0,628575.0,672945.0,1355602.1,709920.0,700060.0,1336030.0,690200.0,586670.0,901697.0,947250.2,708687.5,317985.0,919445.0,788800.0,857820.0,594065.0,1945461.81,738021.0,971210.0,941630.0,736049.0,1528300.0,596530.0,885428.0,635970.0,778447.0,1183200.0,552160.0,453560.0,670480.0,1415353.7,714850.0,416585.0,912050.0,862750.0,1035300.0,1313845.0,700676.25,727175.0],\"yaxis\":\"y\",\"type\":\"scattergl\"},{\"hovertemplate\":\"\\u003cb\\u003eOLS trendline\\u003c\\u002fb\\u003e\\u003cbr\\u003eprecio_de_venta = 6899.2 * area_primer_piso + 144777\\u003cbr\\u003eR\\u003csup\\u003e2\\u003c\\u002fsup\\u003e=0.380142\\u003cbr\\u003e\\u003cbr\\u003earea_primer_piso=%{x}\\u003cbr\\u003eprecio_de_venta=%{y} \\u003cb\\u003e(trend)\\u003c\\u002fb\\u003e\\u003cextra\\u003e\\u003c\\u002fextra\\u003e\",\"legendgroup\":\"\",\"line\":{\"color\":\"red\"},\"marker\":{\"color\":\"#636efa\",\"symbol\":\"circle\"},\"mode\":\"lines\",\"name\":\"\",\"showlegend\":false,\"x\":[31.0286,34.5588,40.6902,44.592,44.8707,44.8707,44.8707,44.8707,44.8707,44.8707,44.8707,45.9855,48.308,48.308,48.308,48.308,48.308,48.7725,48.8654,49.7944,50.7234,50.7234,50.7234,51.1879,52.1169,53.1388,53.1388,53.4175,53.5104,53.9749,55.3684,55.74,55.74,56.2045,56.8548,56.8548,57.2264,57.2264,57.2264,57.2264,57.2264,57.9696,57.9696,58.0625,58.0625,58.1554,58.527,58.527,58.527,58.527,58.527,58.527,58.527,58.527,58.527,60.2921,61.1282,61.314,61.314,61.4069,61.5927,61.6856,62.4288,62.4288,62.4288,62.4288,62.4288,62.4288,62.4288,62.4288,62.4288,62.4288,62.4288,62.5217,62.8004,63.0791,63.172,63.3578,63.5436,63.5436,63.5436,63.7294,64.0081,64.0081,64.1939,64.1939,64.3797,64.4726,64.4726,64.4726,64.6584,64.7513,64.7513,64.8442,64.8442,64.8442,64.8442,64.8442,65.2158,65.3087,65.6803,65.6803,65.7732,65.7732,66.2377,66.5164,66.5164,66.88799999999999,66.88799999999999,66.88799999999999,66.88799999999999,66.88799999999999,66.88799999999999,67.35249999999999,67.35249999999999,67.63119999999999,67.63119999999999,67.63119999999999,67.63119999999999,67.63119999999999,67.63119999999999,67.72409999999999,67.72409999999999,67.72409999999999,68.1886,68.1886,68.2815,68.2815,68.3744,68.5602,68.8389,68.9318,68.9318,68.9318,69.3963,69.3963,69.675,69.7679,69.8608,69.9537,70.0466,70.1395,70.2324,70.2324,70.2324,70.2324,70.3253,70.3253,70.604,70.9756,70.9756,70.9756,70.9756,70.9756,70.9756,71.0685,71.0685,71.2543,71.3472,71.3472,71.3472,71.3472,71.3472,71.4401,71.4401,71.533,71.7188,71.8117,71.8117,71.8117,71.9046,71.9046,71.9046,71.9046,71.9046,72.2762,72.2762,72.3691,72.3691,72.462,72.462,72.462,72.462,72.462,72.7407,72.8336,72.8336,73.01939999999999,73.01939999999999,73.20519999999999,73.20519999999999,73.29809999999999,73.29809999999999,73.39099999999999,73.39099999999999,73.57679999999999,73.57679999999999,73.57679999999999,73.66969999999999,73.76259999999999,73.94839999999999,73.94839999999999,73.94839999999999,73.94839999999999,73.94839999999999,74.13419999999999,74.13419999999999,74.13419999999999,74.13419999999999,74.13419999999999,74.2271,74.32,74.32,74.5058,74.5058,74.5987,74.5987,74.6916,74.6916,74.6916,74.6916,74.6916,74.8774,74.9703,74.9703,75.0632,75.0632,75.0632,75.249,75.249,75.249,75.249,75.3419,75.3419,75.4348,75.5277,75.6206,75.7135,75.8064,75.8064,75.8064,75.8064,75.8064,75.8064,75.8064,75.8064,75.8064,75.9922,76.178,76.178,76.3638,76.5496,76.6425,76.6425,76.8283,76.8283,77.0141,77.1999,77.2928,77.2928,77.2928,77.2928,77.2928,77.2928,77.2928,77.3857,77.3857,77.3857,77.5715,77.8502,78.036,78.036,78.036,78.036,78.036,78.036,78.1289,78.1289,78.2218,78.5005,78.5005,78.5934,78.6863,78.6863,78.6863,78.6863,78.7792,78.7792,78.7792,78.7792,78.7792,78.7792,78.7792,78.7792,78.7792,78.7792,78.7792,78.7792,78.8721,79.0579,79.33659999999999,79.33659999999999,79.42949999999999,79.42949999999999,79.42949999999999,79.42949999999999,79.52239999999999,79.70819999999999,79.70819999999999,79.70819999999999,79.70819999999999,79.70819999999999,79.80109999999999,79.89399999999999,79.89399999999999,79.89399999999999,79.89399999999999,79.98689999999999,80.26559999999999,80.26559999999999,80.26559999999999,80.26559999999999,80.26559999999999,80.26559999999999,80.26559999999999,80.26559999999999,80.26559999999999,80.26559999999999,80.26559999999999,80.26559999999999,80.26559999999999,80.26559999999999,80.26559999999999,80.26559999999999,80.26559999999999,80.26559999999999,80.26559999999999,80.26559999999999,80.26559999999999,80.26559999999999,80.26559999999999,80.26559999999999,80.26559999999999,80.35849999999999,80.45139999999999,80.45139999999999,80.45139999999999,80.45139999999999,80.7301,80.7301,81.0088,81.0088,81.1946,81.1946,81.1946,81.2875,81.3804,81.3804,81.4733,81.6591,81.752,81.752,81.9378,81.9378,81.9378,81.9378,81.9378,81.9378,82.1236,82.1236,82.1236,82.1236,82.2165,82.3094,82.4023,82.4952,82.4952,82.4952,82.5881,82.8668,82.8668,82.8668,82.8668,82.9597,83.0526,83.0526,83.0526,83.0526,83.0526,83.0526,83.0526,83.0526,83.0526,83.0526,83.0526,83.0526,83.2384,83.2384,83.3313,83.5171,83.61,83.61,83.61,83.61,83.7029,83.7029,83.7029,83.7958,83.7958,83.7958,83.7958,83.9816,83.9816,83.9816,84.0745,84.2603,84.3532,84.4461,84.539,84.539,84.539,84.7248,84.7248,84.7248,84.7248,84.7248,84.7248,84.7248,84.7248,84.7248,84.7248,84.7248,84.7248,84.7248,84.7248,84.8177,84.9106,85.0035,85.0964,85.0964,85.0964,85.2822,85.2822,85.2822,85.468,85.468,85.74669999999999,85.74669999999999,85.83959999999999,85.93249999999999,85.93249999999999,86.02539999999999,86.02539999999999,86.11829999999999,86.21119999999999,86.21119999999999,86.21119999999999,86.21119999999999,86.30409999999999,86.39699999999999,86.58279999999999,86.58279999999999,86.67569999999999,86.86149999999999,86.95439999999999,86.95439999999999,86.95439999999999,86.95439999999999,86.95439999999999,86.95439999999999,86.95439999999999,87.1402,87.1402,87.2331,87.2331,87.4189,87.6047,87.6047,87.6047,87.6976,87.6976,87.6976,88.0692,88.0692,88.0692,88.0692,88.0692,88.1621,88.255,88.255,88.3479,88.4408,88.4408,88.4408,88.4408,88.5337,88.5337,88.6266,88.6266,88.6266,88.7195,88.7195,88.8124,88.8124,88.9982,88.9982,88.9982,88.9982,88.9982,89.0911,89.0911,89.184,89.184,89.184,89.184,89.184,89.184,89.184,89.2769,89.2769,89.3698,89.4627,89.5556,89.5556,89.6485,89.7414,89.9272,89.9272,89.9272,90.0201,90.113,90.113,90.113,90.113,90.2059,90.2988,90.2988,90.4846,90.5775,90.6704,90.6704,90.6704,90.7633,90.9491,90.9491,90.9491,91.042,91.042,91.042,91.042,91.042,91.1349,91.1349,91.3207,91.3207,91.3207,91.4136,91.5065,91.5994,91.7852,91.7852,91.7852,91.7852,91.7852,91.8781,91.971,91.971,91.971,91.971,91.971,91.971,92.0639,92.1568,92.2497,92.2497,92.5284,92.5284,92.6213,92.6213,92.6213,92.7142,92.8071,92.8071,92.8071,92.9929,92.9929,93.0858,93.0858,93.1787,93.2716,93.2716,93.2716,93.2716,93.3645,93.3645,93.3645,93.4574,93.4574,93.4574,93.5503,93.6432,93.6432,93.6432,93.829,94.0148,94.0148,94.1077,94.2006,94.2006,94.2935,94.758,94.758,94.8509,94.9438,94.9438,94.9438,94.9438,95.1296,95.3154,95.3154,95.3154,95.3154,95.3154,95.5012,95.5012,95.5941,95.8728,95.8728,95.8728,96.0586,96.1515,96.2444,96.4302,96.5231,96.616,96.616,96.616,96.616,96.616,96.616,96.616,96.616,96.616,96.616,96.616,96.616,96.616,96.616,96.616,96.616,96.7089,96.7089,96.8018,96.9876,97.2663,97.3592,97.3592,97.3592,97.3592,97.545,97.545,97.545,97.545,97.6379,97.7308,97.7308,97.7308,97.8237,97.8237,97.8237,97.8237,97.9166,97.9166,98.0095,98.0095,98.1024,98.1024,98.1024,98.1024,98.1024,98.1024,98.1953,98.1953,98.1953,98.1953,98.2882,98.474,98.474,98.474,98.5669,98.6598,98.6598,98.7527,98.8456,98.9385,98.9385,99.1243,99.1243,99.2172,99.3101,99.3101,99.4959,99.5888,99.5888,99.5888,99.5888,99.5888,99.6817,99.6817,99.7746,99.8675,100.0533,100.0533,100.0533,100.1462,100.1462,100.2391,100.332,100.332,100.332,100.332,100.332,100.5178,100.5178,100.7965,100.8894,100.8894,100.8894,100.8894,101.0752,101.0752,101.0752,101.0752,101.0752,101.1681,101.261,101.3539,101.4468,101.4468,101.4468,101.4468,101.6326,101.6326,101.7255,101.7255,101.7255,101.8184,101.8184,101.8184,101.9113,101.9113,101.9113,102.0042,102.0042,102.0042,102.0971,102.19,102.4687,102.5616,102.6545,102.8403,102.9332,102.9332,103.119,103.3048,103.3048,103.3048,103.3977,103.3977,103.3977,103.4906,103.4906,103.6764,103.7693,103.8622,103.8622,104.048,104.048,104.048,104.048,104.048,104.1409,104.1409,104.2338,104.2338,104.4196,104.5125,104.5125,104.6054,104.6054,104.6054,104.6983,104.6983,104.7912,104.7912,104.7912,104.7912,104.977,104.977,105.0699,105.1628,105.1628,105.2557,105.2557,105.3486,105.3486,105.3486,105.5344,105.5344,105.5344,105.5344,105.6273,105.6273,105.7202,105.906,105.906,105.9989,106.0918,106.0918,106.0918,106.1847,106.2776,106.2776,106.2776,106.2776,106.2776,106.3705,106.3705,106.4634,106.6492,106.6492,106.6492,106.7421,106.7421,106.835,107.0208,107.0208,107.0208,107.1137,107.1137,107.2066,107.2995,107.3924,107.5782,107.5782,107.6711,107.764,107.764,107.8569,108.0427,108.0427,108.1356,108.1356,108.1356,108.1356,108.2285,108.2285,108.3214,108.3214,108.3214,108.4143,108.4143,108.5072,108.5072,108.693,108.8788,108.9717,109.1575,109.1575,109.4362,109.4362,109.622,109.622,109.7149,109.8078,109.8078,109.9936,110.1794,110.2723,110.3652,110.3652,110.3652,110.3652,110.551,110.551,110.7368,110.9226,110.9226,111.0155,111.1084,111.1084,111.3871,111.48,111.48,111.48,111.48,111.48,111.7587,111.8516,112.1303,112.2232,112.2232,112.2232,112.409,112.5019,112.5948,112.5948,112.5948,112.7806,112.7806,112.7806,112.8735,112.9664,112.9664,112.9664,113.0593,113.1522,113.338,113.338,113.338,113.4309,113.4309,113.5238,113.5238,113.6167,113.7096,113.7096,113.7096,113.8025,113.8954,113.8954,114.0812,114.0812,114.1741,114.4528,114.4528,114.6386,114.6386,114.7315,114.8244,114.8244,114.8244,114.8244,114.8244,115.0102,115.196,115.2889,115.3818,115.5676,115.7534,115.7534,115.8463,115.9392,116.0321,116.2179,116.3108,116.3108,116.3108,116.4037,116.4037,116.6824,116.8682,116.8682,116.8682,117.054,117.1469,117.2398,117.2398,117.4256,117.4256,117.5185,117.6114,117.6114,117.7972,117.7972,117.7972,117.8901,117.8901,118.1688,118.3546,118.5404,118.5404,118.5404,118.6333,118.6333,118.8191,119.0049,119.0978,119.1907,119.2836,119.3765,119.5623,119.6552,119.9339,119.9339,120.2126,120.2126,120.3984,120.3984,120.4913,120.5842,120.5842,120.6771,120.8629,120.8629,120.8629,120.9558,120.9558,120.9558,121.1416,121.3274,121.3274,121.3274,121.3274,121.6061,121.699,121.699,122.0706,122.0706,122.0706,122.0706,122.0706,122.2564,122.2564,122.4422,122.5351,122.628,122.628,122.9996,122.9996,123.0925,123.2783,123.3712,123.3712,123.3712,123.3712,123.7428,123.9286,124.1144,124.2073,124.2073,124.2073,124.2073,124.3002,124.3002,124.3931,124.3931,124.486,124.486,124.6718,124.8576,124.8576,124.8576,125.3221,125.415,125.415,125.6008,125.6008,125.6008,126.0653,126.1582,126.1582,126.344,126.344,126.344,126.4369,126.5298,126.5298,126.5298,126.6227,126.6227,126.7156,127.0872,127.0872,127.273,127.273,127.273,127.4588,127.4588,127.7375,127.9233,128.0162,128.0162,128.29489999999998,128.3878,128.3878,128.48069999999998,128.48069999999998,128.48069999999998,129.0381,129.131,129.2239,129.2239,129.3168,129.3168,129.3168,129.3168,129.3168,129.5026,130.2458,130.5245,130.7103,131.0819,131.1748,131.3606,131.3606,131.3606,131.5464,131.8251,132.1038,132.1038,132.1038,132.1038,132.1038,132.1967,132.3825,132.4754,132.6612,132.6612,132.7541,132.847,132.9399,132.9399,133.0328,133.21859999999998,133.40439999999998,133.40439999999998,133.4973,133.4973,133.77599999999998,133.77599999999998,133.77599999999998,133.96179999999998,133.96179999999998,133.96179999999998,133.96179999999998,134.2405,134.2405,134.9837,134.9837,135.07659999999998,135.2624,135.5411,135.8198,136.0056,136.0056,136.0985,136.1914,136.1914,136.1914,136.3772,136.3772,136.563,136.7488,136.8417,137.1204,137.1204,137.3062,137.3062,137.3062,137.3991,137.3991,137.6778,137.6778,137.8636,137.8636,137.8636,138.0494,138.3281,138.3281,138.421,138.6997,138.7926,138.7926,138.7926,138.7926,138.7926,138.9784,138.9784,139.1642,139.35,139.35,139.35,139.4429,139.5358,139.5358,139.7216,139.7216,139.7216,139.81449999999998,139.9074,139.9074,140.00029999999998,140.18609999999998,140.4648,140.8364,140.8364,141.0222,141.0222,141.0222,141.208,141.30089999999998,141.48669999999998,141.6725,141.7654,142.137,142.137,142.3228,142.6015,142.6015,142.6015,142.6944,142.7873,143.1589,143.1589,143.2518,143.7163,143.8092,143.9021,144.1808,144.2737,144.3666,144.4595,144.4595,144.6453,144.8311,144.924,145.0169,145.2027,145.4814,145.5743,145.5743,145.7601,145.9459,146.03879999999998,146.03879999999998,146.1317,146.22459999999998,146.3175,146.3175,146.41039999999998,146.59619999999998,146.78199999999998,146.78199999999998,146.96779999999998,147.15359999999998,147.15359999999998,147.33939999999998,147.52519999999998,147.52519999999998,147.9897,148.64,148.64,148.7329,148.7329,148.8258,149.0116,149.569,149.569,149.9406,150.1264,150.1264,150.2193,150.498,150.498,150.5909,150.6838,150.8696,150.9625,151.3341,151.3341,151.427,151.427,151.6128,151.6128,151.7986,151.9844,151.9844,152.356,152.7276,152.7276,152.9134,152.9134,152.9134,153.00629999999998,153.37789999999998,153.4708,153.4708,153.4708,153.6566,153.8424,153.8424,153.8424,153.93529999999998,154.12109999999998,154.214,154.30689999999998,154.30689999999998,154.5856,154.5856,154.9572,154.9572,155.143,155.6075,155.9791,156.072,156.072,156.072,156.2578,156.4436,156.6294,156.7223,156.9081,156.9081,156.9081,157.3726,157.3726,157.3726,157.5584,157.7442,157.8371,157.8371,157.93,157.93,158.0229,158.1158,158.3016,158.5803,158.7661,158.85899999999998,158.85899999999998,159.04479999999998,159.1377,159.5093,159.60219999999998,159.60219999999998,159.6951,159.78799999999998,159.8809,160.15959999999998,160.34539999999998,160.53119999999998,160.53119999999998,160.53119999999998,160.53119999999998,160.53119999999998,160.53119999999998,160.9957,161.0886,161.0886,161.0886,161.8318,161.8318,162.2034,162.7608,164.0614,164.0614,164.2472,164.5259,164.9904,164.9904,165.26909999999998,166.01229999999998,166.1052,166.4768,166.75549999999998,166.75549999999998,167.22,167.22,167.22,167.31289999999998,167.4987,168.2419,169.6354,169.8212,170.0999,170.5644,170.5644,170.7502,170.8431,171.30759999999998,171.30759999999998,171.30759999999998,171.67919999999998,171.86499999999998,172.42239999999998,173.4443,173.6301,173.9088,175.3952,176.3242,176.6958,176.9745,178.5538,179.4828,180.226,180.226,180.5976,181.9911,182.6414,182.8272,183.2917,183.5704,183.942,184.5923,185.0568,185.8,185.8,187.4722,187.658,187.658,188.4012,189.7018,190.0734,190.7237,192.2101,192.2101,192.5817,192.8604,193.6036,194.8113,196.019,196.2977,196.6693,197.0409,197.7841,198.4344,200.2924,200.4782,204.0084,205.0303,205.9593,206.5167,207.5386,209.8611,219.6156,222.2168,223.1458],\"xaxis\":\"x\",\"y\":[358849.3091181279,383204.8502470541,425506.57957624167,452425.8618766337,454348.66775523324,454348.66775523324,454348.66775523324,454348.66775523324,454348.66775523324,454348.66775523324,454348.66775523324,462039.891269631,478063.2735912929,478063.2735912929,478063.2735912929,478063.2735912929,478063.2735912929,481267.9500556253,481908.8853484917,488318.2382771566,494727.59120582126,494727.59120582126,494727.59120582126,497932.26767015376,504341.6205988185,511391.90882034984,511391.90882034984,513314.71469894913,513955.6499918157,517160.32645614806,526774.3558491452,529338.0970206112,529338.0970206112,532542.7734849436,537029.3205350089,537029.3205350089,539593.0617064747,539593.0617064747,539593.0617064747,539593.0617064747,539593.0617064747,544720.5440494067,544720.5440494067,545361.4793422731,545361.4793422731,546002.4146351396,548566.1558066055,548566.1558066055,548566.1558066055,548566.1558066055,548566.1558066055,548566.1558066055,548566.1558066055,548566.1558066055,548566.1558066055,560743.9263710686,566512.3440068669,567794.2145925999,567794.2145925999,568435.1498854663,569717.0204711993,570357.9557640657,575485.4381069976,575485.4381069976,575485.4381069976,575485.4381069976,575485.4381069976,575485.4381069976,575485.4381069976,575485.4381069976,575485.4381069976,575485.4381069976,575485.4381069976,576126.3733998641,578049.1792784635,579971.9851570629,580612.9204499294,581894.7910356624,583176.6616213953,583176.6616213953,583176.6616213953,584458.5322071282,586381.3380857278,586381.3380857278,587663.2086714606,587663.2086714606,588945.0792571936,589586.0145500602,589586.0145500602,589586.0145500602,590867.885135793,591508.8204286596,591508.8204286596,592149.755721526,592149.755721526,592149.755721526,592149.755721526,592149.755721526,594713.4968929919,595354.4321858584,597918.1733573243,597918.1733573243,598559.1086501909,598559.1086501909,601763.7851145233,603686.5909931227,603686.5909931227,606250.3321645885,606250.3321645885,606250.3321645885,606250.3321645885,606250.3321645885,606250.3321645885,609455.0086289209,609455.0086289209,611377.8145075203,611377.8145075203,611377.8145075203,611377.8145075203,611377.8145075203,611377.8145075203,612018.7498003868,612018.7498003868,612018.7498003868,615223.4262647192,615223.4262647192,615864.3615575857,615864.3615575857,616505.2968504522,617787.1674361851,619709.9733147846,620350.908607651,620350.908607651,620350.908607651,623555.5850719834,623555.5850719834,625478.3909505829,626119.3262434494,626760.2615363158,627401.1968291823,628042.1321220488,628683.0674149153,629324.0027077817,629324.0027077817,629324.0027077817,629324.0027077817,629964.9380006483,629964.9380006483,631887.7438792477,634451.4850507136,634451.4850507136,634451.4850507136,634451.4850507136,634451.4850507136,634451.4850507136,635092.4203435801,635092.4203435801,636374.290929313,637015.2262221795,637015.2262221795,637015.2262221795,637015.2262221795,637015.2262221795,637656.161515046,637656.161515046,638297.0968079125,639578.9673936454,640219.9026865119,640219.9026865119,640219.9026865119,640860.8379793784,640860.8379793784,640860.8379793784,640860.8379793784,640860.8379793784,643424.5791508442,643424.5791508442,644065.5144437108,644065.5144437108,644706.4497365772,644706.4497365772,644706.4497365772,644706.4497365772,644706.4497365772,646629.2556151767,647270.1909080432,647270.1909080432,648552.061493776,648552.061493776,649833.932079509,649833.932079509,650474.8673723754,650474.8673723754,651115.802665242,651115.802665242,652397.673250975,652397.673250975,652397.673250975,653038.6085438414,653679.5438367078,654961.4144224408,654961.4144224408,654961.4144224408,654961.4144224408,654961.4144224408,656243.2850081738,656243.2850081738,656243.2850081738,656243.2850081738,656243.2850081738,656884.2203010403,657525.1555939068,657525.1555939068,658807.0261796397,658807.0261796397,659447.9614725062,659447.9614725062,660088.8967653727,660088.8967653727,660088.8967653727,660088.8967653727,660088.8967653727,661370.7673511057,662011.7026439721,662011.7026439721,662652.6379368386,662652.6379368386,662652.6379368386,663934.5085225715,663934.5085225715,663934.5085225715,663934.5085225715,664575.4438154381,664575.4438154381,665216.3791083045,665857.314401171,666498.2496940375,667139.1849869039,667780.1202797705,667780.1202797705,667780.1202797705,667780.1202797705,667780.1202797705,667780.1202797705,667780.1202797705,667780.1202797705,667780.1202797705,669061.9908655034,670343.8614512363,670343.8614512363,671625.7320369693,672907.6026227023,673548.5379155687,673548.5379155687,674830.4085013017,674830.4085013017,676112.2790870346,677394.1496727676,678035.084965634,678035.084965634,678035.084965634,678035.084965634,678035.084965634,678035.084965634,678035.084965634,678676.0202585006,678676.0202585006,678676.0202585006,679957.8908442336,681880.696722833,683162.567308566,683162.567308566,683162.567308566,683162.567308566,683162.567308566,683162.567308566,683803.5026014324,683803.5026014324,684444.4378942989,686367.2437728983,686367.2437728983,687008.1790657648,687649.1143586313,687649.1143586313,687649.1143586313,687649.1143586313,688290.0496514977,688290.0496514977,688290.0496514977,688290.0496514977,688290.0496514977,688290.0496514977,688290.0496514977,688290.0496514977,688290.0496514977,688290.0496514977,688290.0496514977,688290.0496514977,688930.9849443643,690212.8555300971,692135.6614086966,692135.6614086966,692776.596701563,692776.596701563,692776.596701563,692776.596701563,693417.5319944295,694699.4025801625,694699.4025801625,694699.4025801625,694699.4025801625,694699.4025801625,695340.3378730289,695981.2731658954,695981.2731658954,695981.2731658954,695981.2731658954,696622.2084587619,698545.0143373613,698545.0143373613,698545.0143373613,698545.0143373613,698545.0143373613,698545.0143373613,698545.0143373613,698545.0143373613,698545.0143373613,698545.0143373613,698545.0143373613,698545.0143373613,698545.0143373613,698545.0143373613,698545.0143373613,698545.0143373613,698545.0143373613,698545.0143373613,698545.0143373613,698545.0143373613,698545.0143373613,698545.0143373613,698545.0143373613,698545.0143373613,698545.0143373613,699185.9496302279,699826.8849230943,699826.8849230943,699826.8849230943,699826.8849230943,701749.6908016937,701749.6908016937,703672.4966802931,703672.4966802931,704954.3672660261,704954.3672660261,704954.3672660261,705595.3025588926,706236.2378517591,706236.2378517591,706877.1731446256,708159.0437303585,708799.979023225,708799.979023225,710081.849608958,710081.849608958,710081.849608958,710081.849608958,710081.849608958,710081.849608958,711363.720194691,711363.720194691,711363.720194691,711363.720194691,712004.6554875574,712645.5907804238,713286.5260732904,713927.4613661568,713927.4613661568,713927.4613661568,714568.3966590234,716491.2025376228,716491.2025376228,716491.2025376228,716491.2025376228,717132.1378304892,717773.0731233557,717773.0731233557,717773.0731233557,717773.0731233557,717773.0731233557,717773.0731233557,717773.0731233557,717773.0731233557,717773.0731233557,717773.0731233557,717773.0731233557,717773.0731233557,719054.9437090887,719054.9437090887,719695.8790019552,720977.7495876881,721618.6848805546,721618.6848805546,721618.6848805546,721618.6848805546,722259.6201734211,722259.6201734211,722259.6201734211,722900.5554662875,722900.5554662875,722900.5554662875,722900.5554662875,724182.4260520205,724182.4260520205,724182.4260520205,724823.3613448871,726105.2319306199,726746.1672234865,727387.1025163529,728028.0378092194,728028.0378092194,728028.0378092194,729309.9083949523,729309.9083949523,729309.9083949523,729309.9083949523,729309.9083949523,729309.9083949523,729309.9083949523,729309.9083949523,729309.9083949523,729309.9083949523,729309.9083949523,729309.9083949523,729309.9083949523,729309.9083949523,729950.8436878189,730591.7789806853,731232.7142735518,731873.6495664183,731873.6495664183,731873.6495664183,733155.5201521512,733155.5201521512,733155.5201521512,734437.3907378842,734437.3907378842,736360.1966164835,736360.1966164835,737001.13190935,737642.0672022165,737642.0672022165,738283.002495083,738283.002495083,738923.9377879495,739564.8730808159,739564.8730808159,739564.8730808159,739564.8730808159,740205.8083736824,740846.7436665489,742128.6142522818,742128.6142522818,742769.5495451484,744051.4201308812,744692.3554237478,744692.3554237478,744692.3554237478,744692.3554237478,744692.3554237478,744692.3554237478,744692.3554237478,745974.2260094808,745974.2260094808,746615.1613023472,746615.1613023472,747897.0318880802,749178.9024738132,749178.9024738132,749178.9024738132,749819.8377666796,749819.8377666796,749819.8377666796,752383.5789381455,752383.5789381455,752383.5789381455,752383.5789381455,752383.5789381455,753024.514231012,753665.4495238785,753665.4495238785,754306.384816745,754947.3201096115,754947.3201096115,754947.3201096115,754947.3201096115,755588.2554024779,755588.2554024779,756229.1906953444,756229.1906953444,756229.1906953444,756870.1259882109,756870.1259882109,757511.0612810773,757511.0612810773,758792.9318668103,758792.9318668103,758792.9318668103,758792.9318668103,758792.9318668103,759433.8671596769,759433.8671596769,760074.8024525433,760074.8024525433,760074.8024525433,760074.8024525433,760074.8024525433,760074.8024525433,760074.8024525433,760715.7377454097,760715.7377454097,761356.6730382763,761997.6083311427,762638.5436240092,762638.5436240092,763279.4789168757,763920.4142097422,765202.2847954751,765202.2847954751,765202.2847954751,765843.2200883416,766484.155381208,766484.155381208,766484.155381208,766484.155381208,767125.0906740746,767766.025966941,767766.025966941,769047.896552674,769688.8318455404,770329.767138407,770329.767138407,770329.767138407,770970.7024312734,772252.5730170064,772252.5730170064,772252.5730170064,772893.5083098729,772893.5083098729,772893.5083098729,772893.5083098729,772893.5083098729,773534.4436027394,773534.4436027394,774816.3141884723,774816.3141884723,774816.3141884723,775457.2494813388,776098.1847742053,776739.1200670718,778020.9906528047,778020.9906528047,778020.9906528047,778020.9906528047,778020.9906528047,778661.9259456712,779302.8612385377,779302.8612385377,779302.8612385377,779302.8612385377,779302.8612385377,779302.8612385377,779943.7965314041,780584.7318242707,781225.6671171371,781225.6671171371,783148.4729957365,783148.4729957365,783789.4082886031,783789.4082886031,783789.4082886031,784430.3435814695,785071.278874336,785071.278874336,785071.278874336,786353.1494600689,786353.1494600689,786994.0847529355,786994.0847529355,787635.0200458019,788275.9553386684,788275.9553386684,788275.9553386684,788275.9553386684,788916.8906315349,788916.8906315349,788916.8906315349,789557.8259244014,789557.8259244014,789557.8259244014,790198.7612172677,790839.6965101343,790839.6965101343,790839.6965101343,792121.5670958671,793403.4376816001,793403.4376816001,794044.3729744666,794685.3082673331,794685.3082673331,795326.2435601996,798530.920024532,798530.920024532,799171.8553173984,799812.790610265,799812.790610265,799812.790610265,799812.790610265,801094.6611959978,802376.5317817308,802376.5317817308,802376.5317817308,802376.5317817308,802376.5317817308,803658.4023674638,803658.4023674638,804299.3376603303,806222.1435389298,806222.1435389298,806222.1435389298,807504.0141246627,808144.9494175292,808785.8847103956,810067.7552961286,810708.6905889951,811349.6258818615,811349.6258818615,811349.6258818615,811349.6258818615,811349.6258818615,811349.6258818615,811349.6258818615,811349.6258818615,811349.6258818615,811349.6258818615,811349.6258818615,811349.6258818615,811349.6258818615,811349.6258818615,811349.6258818615,811349.6258818615,811990.5611747281,811990.5611747281,812631.4964675945,813913.3670533275,815836.1729319269,816477.1082247935,816477.1082247935,816477.1082247935,816477.1082247935,817758.9788105263,817758.9788105263,817758.9788105263,817758.9788105263,818399.9141033929,819040.8493962593,819040.8493962593,819040.8493962593,819681.7846891258,819681.7846891258,819681.7846891258,819681.7846891258,820322.7199819923,820322.7199819923,820963.6552748588,820963.6552748588,821604.5905677252,821604.5905677252,821604.5905677252,821604.5905677252,821604.5905677252,821604.5905677252,822245.5258605917,822245.5258605917,822245.5258605917,822245.5258605917,822886.4611534582,824168.3317391912,824168.3317391912,824168.3317391912,824809.2670320576,825450.2023249242,825450.2023249242,826091.1376177906,826732.072910657,827373.0082035236,827373.0082035236,828654.8787892566,828654.8787892566,829295.814082123,829936.7493749894,829936.7493749894,831218.6199607224,831859.555253589,831859.555253589,831859.555253589,831859.555253589,831859.555253589,832500.4905464554,832500.4905464554,833141.4258393219,833782.3611321884,835064.2317179212,835064.2317179212,835064.2317179212,835705.1670107876,835705.1670107876,836346.1023036542,836987.0375965206,836987.0375965206,836987.0375965206,836987.0375965206,836987.0375965206,838268.9081822536,838268.9081822536,840191.714060853,840832.6493537195,840832.6493537195,840832.6493537195,840832.6493537195,842114.5199394525,842114.5199394525,842114.5199394525,842114.5199394525,842114.5199394525,842755.455232319,843396.3905251855,844037.3258180519,844678.2611109184,844678.2611109184,844678.2611109184,844678.2611109184,845960.1316966513,845960.1316966513,846601.0669895179,846601.0669895179,846601.0669895179,847242.0022823843,847242.0022823843,847242.0022823843,847882.9375752509,847882.9375752509,847882.9375752509,848523.8728681173,848523.8728681173,848523.8728681173,849164.8081609837,849805.7434538503,851728.5493324497,852369.4846253162,853010.4199181827,854292.2905039156,854933.2257967821,854933.2257967821,856215.096382515,857496.966968248,857496.966968248,857496.966968248,858137.9022611144,858137.9022611144,858137.9022611144,858778.837553981,858778.837553981,860060.708139714,860701.6434325804,861342.5787254468,861342.5787254468,862624.4493111798,862624.4493111798,862624.4493111798,862624.4493111798,862624.4493111798,863265.3846040464,863265.3846040464,863906.3198969128,863906.3198969128,865188.1904826458,865829.1257755122,865829.1257755122,866470.0610683787,866470.0610683787,866470.0610683787,867110.9963612452,867110.9963612452,867751.9316541117,867751.9316541117,867751.9316541117,867751.9316541117,869033.8022398447,869033.8022398447,869674.7375327111,870315.6728255776,870315.6728255776,870956.6081184441,870956.6081184441,871597.5434113105,871597.5434113105,871597.5434113105,872879.4139970435,872879.4139970435,872879.4139970435,872879.4139970435,873520.34928991,873520.34928991,874161.2845827765,875443.1551685095,875443.1551685095,876084.0904613759,876725.0257542424,876725.0257542424,876725.0257542424,877365.9610471089,878006.8963399754,878006.8963399754,878006.8963399754,878006.8963399754,878006.8963399754,878647.8316328418,878647.8316328418,879288.7669257083,880570.6375114411,880570.6375114411,880570.6375114411,881211.5728043077,881211.5728043077,881852.5080971741,883134.3786829071,883134.3786829071,883134.3786829071,883775.3139757735,883775.3139757735,884416.2492686401,885057.1845615065,885698.119854373,886979.990440106,886979.990440106,887620.9257329724,888261.8610258389,888261.8610258389,888902.7963187054,890184.6669044384,890184.6669044384,890825.6021973048,890825.6021973048,890825.6021973048,890825.6021973048,891466.5374901714,891466.5374901714,892107.4727830378,892107.4727830378,892107.4727830378,892748.4080759042,892748.4080759042,893389.3433687708,893389.3433687708,894671.2139545038,895953.0845402367,896594.0198331032,897875.8904188361,897875.8904188361,899798.6962974356,899798.6962974356,901080.5668831685,901080.5668831685,901721.502176035,902362.4374689015,902362.4374689015,903644.3080546345,904926.1786403675,905567.1139332339,906208.0492261003,906208.0492261003,906208.0492261003,906208.0492261003,907489.9198118333,907489.9198118333,908771.7903975663,910053.6609832993,910053.6609832993,910694.5962761657,911335.5315690322,911335.5315690322,913258.3374476316,913899.2727404981,913899.2727404981,913899.2727404981,913899.2727404981,913899.2727404981,915822.0786190976,916463.013911964,918385.8197905634,919026.75508343,919026.75508343,919026.75508343,920308.625669163,920949.5609620294,921590.4962548959,921590.4962548959,921590.4962548959,922872.3668406288,922872.3668406288,922872.3668406288,923513.3021334953,924154.2374263617,924154.2374263617,924154.2374263617,924795.1727192282,925436.1080120946,926717.9785978276,926717.9785978276,926717.9785978276,927358.9138906942,927358.9138906942,927999.8491835606,927999.8491835606,928640.784476427,929281.7197692936,929281.7197692936,929281.7197692936,929922.65506216,930563.5903550265,930563.5903550265,931845.4609407595,931845.4609407595,932486.396233626,934409.2021122253,934409.2021122253,935691.0726979583,935691.0726979583,936332.0079908248,936972.9432836913,936972.9432836913,936972.9432836913,936972.9432836913,936972.9432836913,938254.8138694243,939536.6844551573,940177.6197480237,940818.5550408901,942100.4256266231,943382.2962123561,943382.2962123561,944023.2315052226,944664.166798089,945305.1020909555,946586.9726766885,947227.907969555,947227.907969555,947227.907969555,947868.8432624214,947868.8432624214,949791.6491410208,951073.5197267538,951073.5197267538,951073.5197267538,952355.3903124868,952996.3256053533,953637.2608982198,953637.2608982198,954919.1314839527,954919.1314839527,955560.0667768192,956201.0020696857,956201.0020696857,957482.8726554187,957482.8726554187,957482.8726554187,958123.8079482851,958123.8079482851,960046.6138268845,961328.4844126175,962610.3549983505,962610.3549983505,962610.3549983505,963251.2902912169,963251.2902912169,964533.1608769499,965815.0314626829,966455.9667555493,967096.9020484159,967737.8373412823,968378.7726341487,969660.6432198817,970301.5785127481,972224.3843913475,972224.3843913475,974147.190269947,974147.190269947,975429.06085568,975429.06085568,976069.9961485465,976710.9314414129,976710.9314414129,977351.8667342794,978633.7373200124,978633.7373200124,978633.7373200124,979274.6726128788,979274.6726128788,979274.6726128788,980556.5431986118,981838.4137843448,981838.4137843448,981838.4137843448,981838.4137843448,983761.2196629442,984402.1549558108,984402.1549558108,986965.8961272766,986965.8961272766,986965.8961272766,986965.8961272766,986965.8961272766,988247.7667130096,988247.7667130096,989529.6372987425,990170.572591609,990811.5078844755,990811.5078844755,993375.2490559414,993375.2490559414,994016.1843488079,995298.0549345409,995938.9902274073,995938.9902274073,995938.9902274073,995938.9902274073,998502.7313988733,999784.6019846062,1001066.4725703392,1001707.4078632056,1001707.4078632056,1001707.4078632056,1001707.4078632056,1002348.3431560721,1002348.3431560721,1002989.2784489386,1002989.2784489386,1003630.213741805,1003630.213741805,1004912.084327538,1006193.954913271,1006193.954913271,1006193.954913271,1009398.6313776034,1010039.5666704698,1010039.5666704698,1011321.4372562028,1011321.4372562028,1011321.4372562028,1014526.1137205352,1015167.0490134016,1015167.0490134016,1016448.9195991346,1016448.9195991346,1016448.9195991346,1017089.854892001,1017730.7901848676,1017730.7901848676,1017730.7901848676,1018371.725477734,1018371.725477734,1019012.6607706005,1021576.4019420664,1021576.4019420664,1022858.2725277994,1022858.2725277994,1022858.2725277994,1024140.1431135323,1024140.1431135323,1026062.9489921317,1027344.8195778647,1027985.7548707313,1027985.7548707313,1029908.5607493306,1030549.4960421971,1030549.4960421971,1031190.4313350635,1031190.4313350635,1031190.4313350635,1035036.0430922623,1035676.978385129,1036317.9136779953,1036317.9136779953,1036958.8489708619,1036958.8489708619,1036958.8489708619,1036958.8489708619,1036958.8489708619,1038240.7195565948,1043368.2018995268,1045291.007778126,1046572.878363859,1049136.619535325,1049777.5548281916,1051059.4254139245,1051059.4254139245,1051059.4254139245,1052341.2959996576,1054264.1018782568,1056186.9077568564,1056186.9077568564,1056186.9077568564,1056186.9077568564,1056186.9077568564,1056827.8430497227,1058109.7136354558,1058750.6489283224,1060032.5195140552,1060032.5195140552,1060673.4548069215,1061314.3900997883,1061955.3253926546,1061955.3253926546,1062596.2606855212,1063878.131271254,1065160.001856987,1065160.001856987,1065800.9371498534,1065800.9371498534,1067723.7430284529,1067723.7430284529,1067723.7430284529,1069005.6136141857,1069005.6136141857,1069005.6136141857,1069005.6136141857,1070928.4194927854,1070928.4194927854,1076055.9018357173,1076055.9018357173,1076696.8371285836,1077978.7077143167,1079901.513592916,1081824.3194715155,1083106.1900572483,1083106.1900572483,1083747.125350115,1084388.0606429812,1084388.0606429812,1084388.0606429812,1085669.9312287143,1085669.9312287143,1086951.8018144472,1088233.6724001803,1088874.6076930468,1090797.413571646,1090797.413571646,1092079.284157379,1092079.284157379,1092079.284157379,1092720.2194502456,1092720.2194502456,1094643.025328845,1094643.025328845,1095924.8959145779,1095924.8959145779,1095924.8959145779,1097206.766500311,1099129.5723789104,1099129.5723789104,1099770.5076717767,1101693.3135503763,1102334.2488432426,1102334.2488432426,1102334.2488432426,1102334.2488432426,1102334.2488432426,1103616.1194289757,1103616.1194289757,1104897.9900147086,1106179.8606004417,1106179.8606004417,1106179.8606004417,1106820.7958933082,1107461.7311861746,1107461.7311861746,1108743.6017719074,1108743.6017719074,1108743.6017719074,1109384.537064774,1110025.4723576405,1110025.4723576405,1110666.4076505068,1111948.27823624,1113871.0841148393,1116434.8252863053,1116434.8252863053,1117716.6958720381,1117716.6958720381,1117716.6958720381,1118998.5664577712,1119639.5017506375,1120921.3723363706,1122203.2429221037,1122844.17821497,1125407.919386436,1125407.919386436,1126689.7899721689,1128612.5958507683,1128612.5958507683,1128612.5958507683,1129253.5311436348,1129894.4664365014,1132458.207607967,1132458.207607967,1133099.1429008339,1136303.8193651661,1136944.7546580327,1137585.689950899,1139508.4958294986,1140149.431122365,1140790.3664152315,1141431.3017080978,1141431.3017080978,1142713.172293831,1143995.0428795638,1144635.9781724303,1145276.9134652968,1146558.7840510297,1148481.5899296294,1149122.5252224957,1149122.5252224957,1150404.3958082285,1151686.2663939616,1152327.201686828,1152327.201686828,1152968.1369796945,1153609.0722725608,1154250.0075654276,1154250.0075654276,1154890.942858294,1156172.8134440267,1157454.6840297598,1157454.6840297598,1158736.5546154927,1160018.4252012258,1160018.4252012258,1161300.2957869587,1162582.1663726915,1162582.1663726915,1165786.842837024,1170273.3898870894,1170273.3898870894,1170914.325179956,1170914.325179956,1171555.2604728222,1172837.1310585553,1176682.7428157541,1176682.7428157541,1179246.48398722,1180528.354572953,1180528.354572953,1181169.2898658197,1183092.095744419,1183092.095744419,1183733.0310372855,1184373.966330152,1185655.8369158849,1186296.7722087514,1188860.5133802174,1188860.5133802174,1189501.4486730837,1189501.4486730837,1190783.3192588168,1190783.3192588168,1192065.1898445496,1193347.0604302827,1193347.0604302827,1195910.8016017484,1198474.5427732144,1198474.5427732144,1199756.4133589475,1199756.4133589475,1199756.4133589475,1200397.3486518138,1202961.0898232798,1203602.0251161463,1203602.0251161463,1203602.0251161463,1204883.8957018792,1206165.7662876123,1206165.7662876123,1206165.7662876123,1206806.7015804786,1208088.5721662114,1208729.507459078,1209370.4427519445,1209370.4427519445,1211293.248630544,1211293.248630544,1213856.98980201,1213856.98980201,1215138.860387743,1218343.5368520753,1220907.2780235412,1221548.2133164078,1221548.2133164078,1221548.2133164078,1222830.0839021406,1224111.9544878737,1225393.8250736066,1226034.7603664729,1227316.630952206,1227316.630952206,1227316.630952206,1230521.3074165385,1230521.3074165385,1230521.3074165385,1231803.1780022713,1233085.0485880044,1233725.9838808707,1233725.9838808707,1234366.9191737373,1234366.9191737373,1235007.8544666036,1235648.7897594701,1236930.6603452032,1238853.4662238027,1240135.3368095355,1240776.2721024018,1240776.2721024018,1242058.142688135,1242699.0779810015,1245262.8191524674,1245903.7544453337,1245903.7544453337,1246544.6897382003,1247185.6250310666,1247826.5603239334,1249749.3662025325,1251031.2367882656,1252313.1073739985,1252313.1073739985,1252313.1073739985,1252313.1073739985,1252313.1073739985,1252313.1073739985,1255517.783838331,1256158.7191311975,1256158.7191311975,1256158.7191311975,1261286.2014741292,1261286.2014741292,1263849.9426455952,1267695.554402794,1276668.6485029247,1276668.6485029247,1277950.5190886578,1279873.3249672572,1283078.0014315895,1283078.0014315895,1285000.807310189,1290128.2896531208,1290769.2249459873,1293332.9661174533,1295255.7719960525,1295255.7719960525,1298460.448460385,1298460.448460385,1298460.448460385,1299101.3837532515,1300383.2543389846,1305510.7366819163,1315124.7660749136,1316406.6366606464,1318329.4425392458,1321534.1190035783,1321534.1190035783,1322815.9895893112,1323456.9248821777,1326661.60134651,1326661.60134651,1326661.60134651,1329225.342517976,1330507.2131037088,1334352.8248609076,1341403.1130824392,1342684.983668172,1344607.7895467717,1354862.754232635,1361272.1071612998,1363835.8483327657,1365758.6542113654,1376654.5541900953,1383063.9071187603,1388191.389461692,1388191.389461692,1390755.130633158,1400369.160026155,1404855.7070762205,1406137.5776619534,1409342.2541262857,1411265.0600048853,1413828.8011763513,1418315.3482264164,1421520.024690749,1426647.5070336808,1426647.5070336808,1438184.3423052772,1439466.21289101,1439466.21289101,1444593.695233942,1453566.7893340727,1456130.5305055387,1460617.077555604,1470872.0422414679,1470872.0422414679,1473435.7834129338,1475358.589291533,1480486.071634465,1488818.230441729,1497150.3892489935,1499073.1951275927,1501636.9362990586,1504200.6774705246,1509328.1598134565,1513814.7068635218,1526633.4127208511,1527915.2833065842,1552270.8244355104,1559321.1126570418,1565730.4655857065,1569576.0773429053,1576626.3655644367,1592649.7478860985,1659947.9536370789,1677894.1418373403,1684303.494766005],\"yaxis\":\"y\",\"type\":\"scattergl\"}],                        {\"template\":{\"data\":{\"histogram2dcontour\":[{\"type\":\"histogram2dcontour\",\"colorbar\":{\"outlinewidth\":0,\"ticks\":\"\"},\"colorscale\":[[0.0,\"#0d0887\"],[0.1111111111111111,\"#46039f\"],[0.2222222222222222,\"#7201a8\"],[0.3333333333333333,\"#9c179e\"],[0.4444444444444444,\"#bd3786\"],[0.5555555555555556,\"#d8576b\"],[0.6666666666666666,\"#ed7953\"],[0.7777777777777778,\"#fb9f3a\"],[0.8888888888888888,\"#fdca26\"],[1.0,\"#f0f921\"]]}],\"choropleth\":[{\"type\":\"choropleth\",\"colorbar\":{\"outlinewidth\":0,\"ticks\":\"\"}}],\"histogram2d\":[{\"type\":\"histogram2d\",\"colorbar\":{\"outlinewidth\":0,\"ticks\":\"\"},\"colorscale\":[[0.0,\"#0d0887\"],[0.1111111111111111,\"#46039f\"],[0.2222222222222222,\"#7201a8\"],[0.3333333333333333,\"#9c179e\"],[0.4444444444444444,\"#bd3786\"],[0.5555555555555556,\"#d8576b\"],[0.6666666666666666,\"#ed7953\"],[0.7777777777777778,\"#fb9f3a\"],[0.8888888888888888,\"#fdca26\"],[1.0,\"#f0f921\"]]}],\"heatmap\":[{\"type\":\"heatmap\",\"colorbar\":{\"outlinewidth\":0,\"ticks\":\"\"},\"colorscale\":[[0.0,\"#0d0887\"],[0.1111111111111111,\"#46039f\"],[0.2222222222222222,\"#7201a8\"],[0.3333333333333333,\"#9c179e\"],[0.4444444444444444,\"#bd3786\"],[0.5555555555555556,\"#d8576b\"],[0.6666666666666666,\"#ed7953\"],[0.7777777777777778,\"#fb9f3a\"],[0.8888888888888888,\"#fdca26\"],[1.0,\"#f0f921\"]]}],\"heatmapgl\":[{\"type\":\"heatmapgl\",\"colorbar\":{\"outlinewidth\":0,\"ticks\":\"\"},\"colorscale\":[[0.0,\"#0d0887\"],[0.1111111111111111,\"#46039f\"],[0.2222222222222222,\"#7201a8\"],[0.3333333333333333,\"#9c179e\"],[0.4444444444444444,\"#bd3786\"],[0.5555555555555556,\"#d8576b\"],[0.6666666666666666,\"#ed7953\"],[0.7777777777777778,\"#fb9f3a\"],[0.8888888888888888,\"#fdca26\"],[1.0,\"#f0f921\"]]}],\"contourcarpet\":[{\"type\":\"contourcarpet\",\"colorbar\":{\"outlinewidth\":0,\"ticks\":\"\"}}],\"contour\":[{\"type\":\"contour\",\"colorbar\":{\"outlinewidth\":0,\"ticks\":\"\"},\"colorscale\":[[0.0,\"#0d0887\"],[0.1111111111111111,\"#46039f\"],[0.2222222222222222,\"#7201a8\"],[0.3333333333333333,\"#9c179e\"],[0.4444444444444444,\"#bd3786\"],[0.5555555555555556,\"#d8576b\"],[0.6666666666666666,\"#ed7953\"],[0.7777777777777778,\"#fb9f3a\"],[0.8888888888888888,\"#fdca26\"],[1.0,\"#f0f921\"]]}],\"surface\":[{\"type\":\"surface\",\"colorbar\":{\"outlinewidth\":0,\"ticks\":\"\"},\"colorscale\":[[0.0,\"#0d0887\"],[0.1111111111111111,\"#46039f\"],[0.2222222222222222,\"#7201a8\"],[0.3333333333333333,\"#9c179e\"],[0.4444444444444444,\"#bd3786\"],[0.5555555555555556,\"#d8576b\"],[0.6666666666666666,\"#ed7953\"],[0.7777777777777778,\"#fb9f3a\"],[0.8888888888888888,\"#fdca26\"],[1.0,\"#f0f921\"]]}],\"mesh3d\":[{\"type\":\"mesh3d\",\"colorbar\":{\"outlinewidth\":0,\"ticks\":\"\"}}],\"scatter\":[{\"fillpattern\":{\"fillmode\":\"overlay\",\"size\":10,\"solidity\":0.2},\"type\":\"scatter\"}],\"parcoords\":[{\"type\":\"parcoords\",\"line\":{\"colorbar\":{\"outlinewidth\":0,\"ticks\":\"\"}}}],\"scatterpolargl\":[{\"type\":\"scatterpolargl\",\"marker\":{\"colorbar\":{\"outlinewidth\":0,\"ticks\":\"\"}}}],\"bar\":[{\"error_x\":{\"color\":\"#2a3f5f\"},\"error_y\":{\"color\":\"#2a3f5f\"},\"marker\":{\"line\":{\"color\":\"#E5ECF6\",\"width\":0.5},\"pattern\":{\"fillmode\":\"overlay\",\"size\":10,\"solidity\":0.2}},\"type\":\"bar\"}],\"scattergeo\":[{\"type\":\"scattergeo\",\"marker\":{\"colorbar\":{\"outlinewidth\":0,\"ticks\":\"\"}}}],\"scatterpolar\":[{\"type\":\"scatterpolar\",\"marker\":{\"colorbar\":{\"outlinewidth\":0,\"ticks\":\"\"}}}],\"histogram\":[{\"marker\":{\"pattern\":{\"fillmode\":\"overlay\",\"size\":10,\"solidity\":0.2}},\"type\":\"histogram\"}],\"scattergl\":[{\"type\":\"scattergl\",\"marker\":{\"colorbar\":{\"outlinewidth\":0,\"ticks\":\"\"}}}],\"scatter3d\":[{\"type\":\"scatter3d\",\"line\":{\"colorbar\":{\"outlinewidth\":0,\"ticks\":\"\"}},\"marker\":{\"colorbar\":{\"outlinewidth\":0,\"ticks\":\"\"}}}],\"scattermapbox\":[{\"type\":\"scattermapbox\",\"marker\":{\"colorbar\":{\"outlinewidth\":0,\"ticks\":\"\"}}}],\"scatterternary\":[{\"type\":\"scatterternary\",\"marker\":{\"colorbar\":{\"outlinewidth\":0,\"ticks\":\"\"}}}],\"scattercarpet\":[{\"type\":\"scattercarpet\",\"marker\":{\"colorbar\":{\"outlinewidth\":0,\"ticks\":\"\"}}}],\"carpet\":[{\"aaxis\":{\"endlinecolor\":\"#2a3f5f\",\"gridcolor\":\"white\",\"linecolor\":\"white\",\"minorgridcolor\":\"white\",\"startlinecolor\":\"#2a3f5f\"},\"baxis\":{\"endlinecolor\":\"#2a3f5f\",\"gridcolor\":\"white\",\"linecolor\":\"white\",\"minorgridcolor\":\"white\",\"startlinecolor\":\"#2a3f5f\"},\"type\":\"carpet\"}],\"table\":[{\"cells\":{\"fill\":{\"color\":\"#EBF0F8\"},\"line\":{\"color\":\"white\"}},\"header\":{\"fill\":{\"color\":\"#C8D4E3\"},\"line\":{\"color\":\"white\"}},\"type\":\"table\"}],\"barpolar\":[{\"marker\":{\"line\":{\"color\":\"#E5ECF6\",\"width\":0.5},\"pattern\":{\"fillmode\":\"overlay\",\"size\":10,\"solidity\":0.2}},\"type\":\"barpolar\"}],\"pie\":[{\"automargin\":true,\"type\":\"pie\"}]},\"layout\":{\"autotypenumbers\":\"strict\",\"colorway\":[\"#636efa\",\"#EF553B\",\"#00cc96\",\"#ab63fa\",\"#FFA15A\",\"#19d3f3\",\"#FF6692\",\"#B6E880\",\"#FF97FF\",\"#FECB52\"],\"font\":{\"color\":\"#2a3f5f\"},\"hovermode\":\"closest\",\"hoverlabel\":{\"align\":\"left\"},\"paper_bgcolor\":\"white\",\"plot_bgcolor\":\"#E5ECF6\",\"polar\":{\"bgcolor\":\"#E5ECF6\",\"angularaxis\":{\"gridcolor\":\"white\",\"linecolor\":\"white\",\"ticks\":\"\"},\"radialaxis\":{\"gridcolor\":\"white\",\"linecolor\":\"white\",\"ticks\":\"\"}},\"ternary\":{\"bgcolor\":\"#E5ECF6\",\"aaxis\":{\"gridcolor\":\"white\",\"linecolor\":\"white\",\"ticks\":\"\"},\"baxis\":{\"gridcolor\":\"white\",\"linecolor\":\"white\",\"ticks\":\"\"},\"caxis\":{\"gridcolor\":\"white\",\"linecolor\":\"white\",\"ticks\":\"\"}},\"coloraxis\":{\"colorbar\":{\"outlinewidth\":0,\"ticks\":\"\"}},\"colorscale\":{\"sequential\":[[0.0,\"#0d0887\"],[0.1111111111111111,\"#46039f\"],[0.2222222222222222,\"#7201a8\"],[0.3333333333333333,\"#9c179e\"],[0.4444444444444444,\"#bd3786\"],[0.5555555555555556,\"#d8576b\"],[0.6666666666666666,\"#ed7953\"],[0.7777777777777778,\"#fb9f3a\"],[0.8888888888888888,\"#fdca26\"],[1.0,\"#f0f921\"]],\"sequentialminus\":[[0.0,\"#0d0887\"],[0.1111111111111111,\"#46039f\"],[0.2222222222222222,\"#7201a8\"],[0.3333333333333333,\"#9c179e\"],[0.4444444444444444,\"#bd3786\"],[0.5555555555555556,\"#d8576b\"],[0.6666666666666666,\"#ed7953\"],[0.7777777777777778,\"#fb9f3a\"],[0.8888888888888888,\"#fdca26\"],[1.0,\"#f0f921\"]],\"diverging\":[[0,\"#8e0152\"],[0.1,\"#c51b7d\"],[0.2,\"#de77ae\"],[0.3,\"#f1b6da\"],[0.4,\"#fde0ef\"],[0.5,\"#f7f7f7\"],[0.6,\"#e6f5d0\"],[0.7,\"#b8e186\"],[0.8,\"#7fbc41\"],[0.9,\"#4d9221\"],[1,\"#276419\"]]},\"xaxis\":{\"gridcolor\":\"white\",\"linecolor\":\"white\",\"ticks\":\"\",\"title\":{\"standoff\":15},\"zerolinecolor\":\"white\",\"automargin\":true,\"zerolinewidth\":2},\"yaxis\":{\"gridcolor\":\"white\",\"linecolor\":\"white\",\"ticks\":\"\",\"title\":{\"standoff\":15},\"zerolinecolor\":\"white\",\"automargin\":true,\"zerolinewidth\":2},\"scene\":{\"xaxis\":{\"backgroundcolor\":\"#E5ECF6\",\"gridcolor\":\"white\",\"linecolor\":\"white\",\"showbackground\":true,\"ticks\":\"\",\"zerolinecolor\":\"white\",\"gridwidth\":2},\"yaxis\":{\"backgroundcolor\":\"#E5ECF6\",\"gridcolor\":\"white\",\"linecolor\":\"white\",\"showbackground\":true,\"ticks\":\"\",\"zerolinecolor\":\"white\",\"gridwidth\":2},\"zaxis\":{\"backgroundcolor\":\"#E5ECF6\",\"gridcolor\":\"white\",\"linecolor\":\"white\",\"showbackground\":true,\"ticks\":\"\",\"zerolinecolor\":\"white\",\"gridwidth\":2}},\"shapedefaults\":{\"line\":{\"color\":\"#2a3f5f\"}},\"annotationdefaults\":{\"arrowcolor\":\"#2a3f5f\",\"arrowhead\":0,\"arrowwidth\":1},\"geo\":{\"bgcolor\":\"white\",\"landcolor\":\"#E5ECF6\",\"subunitcolor\":\"white\",\"showland\":true,\"showlakes\":true,\"lakecolor\":\"white\"},\"title\":{\"x\":0.05},\"mapbox\":{\"style\":\"light\"}}},\"xaxis\":{\"anchor\":\"y\",\"domain\":[0.0,1.0],\"title\":{\"text\":\"area_primer_piso\"}},\"yaxis\":{\"anchor\":\"x\",\"domain\":[0.0,1.0],\"title\":{\"text\":\"precio_de_venta\"}},\"legend\":{\"tracegroupgap\":0},\"margin\":{\"t\":60}},                        {\"responsive\": true}                    ).then(function(){\n",
              "                            \n",
              "var gd = document.getElementById('a1648153-b4a2-4aea-a71b-365a6ff15fdb');\n",
              "var x = new MutationObserver(function (mutations, observer) {{\n",
              "        var display = window.getComputedStyle(gd).display;\n",
              "        if (!display || display === 'none') {{\n",
              "            console.log([gd, 'removed!']);\n",
              "            Plotly.purge(gd);\n",
              "            observer.disconnect();\n",
              "        }}\n",
              "}});\n",
              "\n",
              "// Listen for the removal of the full notebook cells\n",
              "var notebookContainer = gd.closest('#notebook-container');\n",
              "if (notebookContainer) {{\n",
              "    x.observe(notebookContainer, {childList: true});\n",
              "}}\n",
              "\n",
              "// Listen for the clearing of the current output cell\n",
              "var outputEl = gd.closest('.output');\n",
              "if (outputEl) {{\n",
              "    x.observe(outputEl, {childList: true});\n",
              "}}\n",
              "\n",
              "                        })                };                            </script>        </div>\n",
              "</body>\n",
              "</html>"
            ]
          },
          "metadata": {}
        }
      ],
      "source": [
        "# Cuál es la recta que mejor se ajusta a esta relación\n",
        "# Método de los mínimos cuadrados ordinarios:\n",
        "\n",
        "px.scatter(datos, x='area_primer_piso', y='precio_de_venta', trendline=\"ols\", trendline_color_override='red')"
      ]
    },
    {
      "cell_type": "markdown",
      "metadata": {
        "id": "4UrDseC82Y_F"
      },
      "source": [
        "# 2. Explicando la recta\n",
        "Ajustamos una recta entre los $m^2$ del primer piso y el precio de la casa. Queremos explicar el precio de la casa a partir de su tamaño, por eso decimos que:\n",
        "\n",
        "* Variable explicativa/independiente: Área del primer piso  \n",
        "* Variable de respuesta/dependiente: Precio de la casa  "
      ]
    },
    {
      "cell_type": "code",
      "execution_count": 13,
      "metadata": {
        "id": "PS2GnzlIVEML",
        "colab": {
          "base_uri": "https://localhost:8080/",
          "height": 529
        },
        "outputId": "4ef43301-0c34-4eb0-8b02-14be69002c48"
      },
      "outputs": [
        {
          "output_type": "display_data",
          "data": {
            "text/plain": [
              "<Figure size 500x500 with 1 Axes>"
            ],
            "image/png": "[encoded data removed]"
          },
          "metadata": {}
        }
      ],
      "source": [
        "#Quién es nuestra variable de respuesta?\n",
        "#sns.distplot( datos['precio_de_venta'], kde=True, color='green')\n",
        "'''\n",
        "`distplot` is a deprecated function and will be removed in seaborn v0.14.0.\n",
        "Please adapt your code to use either `displot` (a figure-level function with\n",
        "similar flexibility) or `histplot` (an axes-level function for histograms).\n",
        "'''\n",
        "sns.displot( datos['precio_de_venta'], kde=True, color='green')\n",
        "plt.title('Distribución del precio de la casa')\n",
        "plt.xlabel('Precio de la casa (USD Mill)')\n",
        "plt.ylabel('Frecuencia')\n",
        "plt.show()"
      ]
    },
    {
      "cell_type": "markdown",
      "metadata": {
        "id": "6SdDRESQh2xo"
      },
      "source": [
        "### Separando datos para entrenamiento y para prueba\n",
        "\n",
        "El conjunto de **entrenamiento** se utiliza para ajustar el modelo, mientras que el conjunto de **prueba** se usa para evaluar su desempeño al predecir precios de viviendas no vistos durante el entrenamiento, lo que ayuda a la generalización del modelo."
      ]
    },
    {
      "cell_type": "code",
      "source": [
        "# import train_test_split\n",
        "from sklearn.model_selection import train_test_split\n",
        "\n",
        "y = datos['precio_de_venta']\n",
        "X = datos.drop(columns='precio_de_venta')\n",
        "\n",
        "X_train, X_test, y_train, y_test = train_test_split(X, y, test_size=0.3, random_state=230)  # Usamos el 30% de la muestra y un estado deterministico para poder re-producir la prueba otra vez\n",
        "\n"
      ],
      "metadata": {
        "id": "gHIRjm1AyIQ_"
      },
      "execution_count": 14,
      "outputs": []
    },
    {
      "cell_type": "code",
      "source": [
        "#Datos de entrenamiento para usar la fórmula\n",
        "df_train = pd.DataFrame(X_train)\n",
        "df_train['precio_de_venta'] = y_train\n",
        "df_train.head()\n"
      ],
      "metadata": {
        "id": "VT6y54dix7lf",
        "colab": {
          "base_uri": "https://localhost:8080/",
          "height": 226
        },
        "outputId": "59bf1fc3-b526-4d9f-86eb-77bad92f45eb"
      },
      "execution_count": 15,
      "outputs": [
        {
          "output_type": "execute_result",
          "data": {
            "text/plain": [
              "      area_primer_piso  tiene_segundo_piso  area_segundo_piso  cantidad_banos  \\\n",
              "1303           65.7732                   0             0.0000               1   \n",
              "326            55.3684                   1            55.3684               1   \n",
              "386            74.6916                   1           107.4853               2   \n",
              "615           103.6764                   0             0.0000               1   \n",
              "236            94.2006                   1            67.8170               2   \n",
              "\n",
              "      capacidad_carros_garage  calidad_de_cocina_excelente  precio_de_venta  \n",
              "1303                        0                            0         406725.0  \n",
              "326                       189                            0         384540.0  \n",
              "386                       560                            0        1059950.0  \n",
              "615                       440                            0         788800.0  \n",
              "236                       457                            0         958885.0  "
            ],
            "text/html": [
              "\n",
              "  <div id=\"df-668fe3fe-0218-4856-b91d-54db3b6eb967\" class=\"colab-df-container\">\n",
              "    <div>\n",
              "<style scoped>\n",
              "    .dataframe tbody tr th:only-of-type {\n",
              "        vertical-align: middle;\n",
              "    }\n",
              "\n",
              "    .dataframe tbody tr th {\n",
              "        vertical-align: top;\n",
              "    }\n",
              "\n",
              "    .dataframe thead th {\n",
              "        text-align: right;\n",
              "    }\n",
              "</style>\n",
              "<table border=\"1\" class=\"dataframe\">\n",
              "  <thead>\n",
              "    <tr style=\"text-align: right;\">\n",
              "      <th></th>\n",
              "      <th>area_primer_piso</th>\n",
              "      <th>tiene_segundo_piso</th>\n",
              "      <th>area_segundo_piso</th>\n",
              "      <th>cantidad_banos</th>\n",
              "      <th>capacidad_carros_garage</th>\n",
              "      <th>calidad_de_cocina_excelente</th>\n",
              "      <th>precio_de_venta</th>\n",
              "    </tr>\n",
              "  </thead>\n",
              "  <tbody>\n",
              "    <tr>\n",
              "      <th>1303</th>\n",
              "      <td>65.7732</td>\n",
              "      <td>0</td>\n",
              "      <td>0.0000</td>\n",
              "      <td>1</td>\n",
              "      <td>0</td>\n",
              "      <td>0</td>\n",
              "      <td>406725.0</td>\n",
              "    </tr>\n",
              "    <tr>\n",
              "      <th>326</th>\n",
              "      <td>55.3684</td>\n",
              "      <td>1</td>\n",
              "      <td>55.3684</td>\n",
              "      <td>1</td>\n",
              "      <td>189</td>\n",
              "      <td>0</td>\n",
              "      <td>384540.0</td>\n",
              "    </tr>\n",
              "    <tr>\n",
              "      <th>386</th>\n",
              "      <td>74.6916</td>\n",
              "      <td>1</td>\n",
              "      <td>107.4853</td>\n",
              "      <td>2</td>\n",
              "      <td>560</td>\n",
              "      <td>0</td>\n",
              "      <td>1059950.0</td>\n",
              "    </tr>\n",
              "    <tr>\n",
              "      <th>615</th>\n",
              "      <td>103.6764</td>\n",
              "      <td>0</td>\n",
              "      <td>0.0000</td>\n",
              "      <td>1</td>\n",
              "      <td>440</td>\n",
              "      <td>0</td>\n",
              "      <td>788800.0</td>\n",
              "    </tr>\n",
              "    <tr>\n",
              "      <th>236</th>\n",
              "      <td>94.2006</td>\n",
              "      <td>1</td>\n",
              "      <td>67.8170</td>\n",
              "      <td>2</td>\n",
              "      <td>457</td>\n",
              "      <td>0</td>\n",
              "      <td>958885.0</td>\n",
              "    </tr>\n",
              "  </tbody>\n",
              "</table>\n",
              "</div>\n",
              "    <div class=\"colab-df-buttons\">\n",
              "\n",
              "  <div class=\"colab-df-container\">\n",
              "    <button class=\"colab-df-convert\" onclick=\"convertToInteractive('df-668fe3fe-0218-4856-b91d-54db3b6eb967')\"\n",
              "            title=\"Convert this dataframe to an interactive table.\"\n",
              "            style=\"display:none;\">\n",
              "\n",
              "  <svg xmlns=\"http://www.w3.org/2000/svg\" height=\"24px\" viewBox=\"0 -960 960 960\">\n",
              "    <path d=\"M120-120v-720h720v720H120Zm60-500h600v-160H180v160Zm220 220h160v-160H400v160Zm0 220h160v-160H400v160ZM180-400h160v-160H180v160Zm440 0h160v-160H620v160ZM180-180h160v-160H180v160Zm440 0h160v-160H620v160Z\"/>\n",
              "  </svg>\n",
              "    </button>\n",
              "\n",
              "  <style>\n",
              "    .colab-df-container {\n",
              "      display:flex;\n",
              "      gap: 12px;\n",
              "    }\n",
              "\n",
              "    .colab-df-convert {\n",
              "      background-color: #E8F0FE;\n",
              "      border: none;\n",
              "      border-radius: 50%;\n",
              "      cursor: pointer;\n",
              "      display: none;\n",
              "      fill: #1967D2;\n",
              "      height: 32px;\n",
              "      padding: 0 0 0 0;\n",
              "      width: 32px;\n",
              "    }\n",
              "\n",
              "    .colab-df-convert:hover {\n",
              "      background-color: #E2EBFA;\n",
              "      box-shadow: 0px 1px 2px rgba(60, 64, 67, 0.3), 0px 1px 3px 1px rgba(60, 64, 67, 0.15);\n",
              "      fill: #174EA6;\n",
              "    }\n",
              "\n",
              "    .colab-df-buttons div {\n",
              "      margin-bottom: 4px;\n",
              "    }\n",
              "\n",
              "    [theme=dark] .colab-df-convert {\n",
              "      background-color: #3B4455;\n",
              "      fill: #D2E3FC;\n",
              "    }\n",
              "\n",
              "    [theme=dark] .colab-df-convert:hover {\n",
              "      background-color: #434B5C;\n",
              "      box-shadow: 0px 1px 3px 1px rgba(0, 0, 0, 0.15);\n",
              "      filter: drop-shadow(0px 1px 2px rgba(0, 0, 0, 0.3));\n",
              "      fill: #FFFFFF;\n",
              "    }\n",
              "  </style>\n",
              "\n",
              "    <script>\n",
              "      const buttonEl =\n",
              "        document.querySelector('#df-668fe3fe-0218-4856-b91d-54db3b6eb967 button.colab-df-convert');\n",
              "      buttonEl.style.display =\n",
              "        google.colab.kernel.accessAllowed ? 'block' : 'none';\n",
              "\n",
              "      async function convertToInteractive(key) {\n",
              "        const element = document.querySelector('#df-668fe3fe-0218-4856-b91d-54db3b6eb967');\n",
              "        const dataTable =\n",
              "          await google.colab.kernel.invokeFunction('convertToInteractive',\n",
              "                                                    [key], {});\n",
              "        if (!dataTable) return;\n",
              "\n",
              "        const docLinkHtml = 'Like what you see? Visit the ' +\n",
              "          '<a target=\"_blank\" href=https://colab.research.google.com/notebooks/data_table.ipynb>data table notebook</a>'\n",
              "          + ' to learn more about interactive tables.';\n",
              "        element.innerHTML = '';\n",
              "        dataTable['output_type'] = 'display_data';\n",
              "        await google.colab.output.renderOutput(dataTable, element);\n",
              "        const docLink = document.createElement('div');\n",
              "        docLink.innerHTML = docLinkHtml;\n",
              "        element.appendChild(docLink);\n",
              "      }\n",
              "    </script>\n",
              "  </div>\n",
              "\n",
              "\n",
              "    <div id=\"df-fb7efd88-b90c-4719-8582-cc7d5bec4d4e\">\n",
              "      <button class=\"colab-df-quickchart\" onclick=\"quickchart('df-fb7efd88-b90c-4719-8582-cc7d5bec4d4e')\"\n",
              "                title=\"Suggest charts\"\n",
              "                style=\"display:none;\">\n",
              "\n",
              "<svg xmlns=\"http://www.w3.org/2000/svg\" height=\"24px\"viewBox=\"0 0 24 24\"\n",
              "     width=\"24px\">\n",
              "    <g>\n",
              "        <path d=\"M19 3H5c-1.1 0-2 .9-2 2v14c0 1.1.9 2 2 2h14c1.1 0 2-.9 2-2V5c0-1.1-.9-2-2-2zM9 17H7v-7h2v7zm4 0h-2V7h2v10zm4 0h-2v-4h2v4z\"/>\n",
              "    </g>\n",
              "</svg>\n",
              "      </button>\n",
              "\n",
              "<style>\n",
              "  .colab-df-quickchart {\n",
              "      --bg-color: #E8F0FE;\n",
              "      --fill-color: #1967D2;\n",
              "      --hover-bg-color: #E2EBFA;\n",
              "      --hover-fill-color: #174EA6;\n",
              "      --disabled-fill-color: #AAA;\n",
              "      --disabled-bg-color: #DDD;\n",
              "  }\n",
              "\n",
              "  [theme=dark] .colab-df-quickchart {\n",
              "      --bg-color: #3B4455;\n",
              "      --fill-color: #D2E3FC;\n",
              "      --hover-bg-color: #434B5C;\n",
              "      --hover-fill-color: #FFFFFF;\n",
              "      --disabled-bg-color: #3B4455;\n",
              "      --disabled-fill-color: #666;\n",
              "  }\n",
              "\n",
              "  .colab-df-quickchart {\n",
              "    background-color: var(--bg-color);\n",
              "    border: none;\n",
              "    border-radius: 50%;\n",
              "    cursor: pointer;\n",
              "    display: none;\n",
              "    fill: var(--fill-color);\n",
              "    height: 32px;\n",
              "    padding: 0;\n",
              "    width: 32px;\n",
              "  }\n",
              "\n",
              "  .colab-df-quickchart:hover {\n",
              "    background-color: var(--hover-bg-color);\n",
              "    box-shadow: 0 1px 2px rgba(60, 64, 67, 0.3), 0 1px 3px 1px rgba(60, 64, 67, 0.15);\n",
              "    fill: var(--button-hover-fill-color);\n",
              "  }\n",
              "\n",
              "  .colab-df-quickchart-complete:disabled,\n",
              "  .colab-df-quickchart-complete:disabled:hover {\n",
              "    background-color: var(--disabled-bg-color);\n",
              "    fill: var(--disabled-fill-color);\n",
              "    box-shadow: none;\n",
              "  }\n",
              "\n",
              "  .colab-df-spinner {\n",
              "    border: 2px solid var(--fill-color);\n",
              "    border-color: transparent;\n",
              "    border-bottom-color: var(--fill-color);\n",
              "    animation:\n",
              "      spin 1s steps(1) infinite;\n",
              "  }\n",
              "\n",
              "  @keyframes spin {\n",
              "    0% {\n",
              "      border-color: transparent;\n",
              "      border-bottom-color: var(--fill-color);\n",
              "      border-left-color: var(--fill-color);\n",
              "    }\n",
              "    20% {\n",
              "      border-color: transparent;\n",
              "      border-left-color: var(--fill-color);\n",
              "      border-top-color: var(--fill-color);\n",
              "    }\n",
              "    30% {\n",
              "      border-color: transparent;\n",
              "      border-left-color: var(--fill-color);\n",
              "      border-top-color: var(--fill-color);\n",
              "      border-right-color: var(--fill-color);\n",
              "    }\n",
              "    40% {\n",
              "      border-color: transparent;\n",
              "      border-right-color: var(--fill-color);\n",
              "      border-top-color: var(--fill-color);\n",
              "    }\n",
              "    60% {\n",
              "      border-color: transparent;\n",
              "      border-right-color: var(--fill-color);\n",
              "    }\n",
              "    80% {\n",
              "      border-color: transparent;\n",
              "      border-right-color: var(--fill-color);\n",
              "      border-bottom-color: var(--fill-color);\n",
              "    }\n",
              "    90% {\n",
              "      border-color: transparent;\n",
              "      border-bottom-color: var(--fill-color);\n",
              "    }\n",
              "  }\n",
              "</style>\n",
              "\n",
              "      <script>\n",
              "        async function quickchart(key) {\n",
              "          const quickchartButtonEl =\n",
              "            document.querySelector('#' + key + ' button');\n",
              "          quickchartButtonEl.disabled = true;  // To prevent multiple clicks.\n",
              "          quickchartButtonEl.classList.add('colab-df-spinner');\n",
              "          try {\n",
              "            const charts = await google.colab.kernel.invokeFunction(\n",
              "                'suggestCharts', [key], {});\n",
              "          } catch (error) {\n",
              "            console.error('Error during call to suggestCharts:', error);\n",
              "          }\n",
              "          quickchartButtonEl.classList.remove('colab-df-spinner');\n",
              "          quickchartButtonEl.classList.add('colab-df-quickchart-complete');\n",
              "        }\n",
              "        (() => {\n",
              "          let quickchartButtonEl =\n",
              "            document.querySelector('#df-fb7efd88-b90c-4719-8582-cc7d5bec4d4e button');\n",
              "          quickchartButtonEl.style.display =\n",
              "            google.colab.kernel.accessAllowed ? 'block' : 'none';\n",
              "        })();\n",
              "      </script>\n",
              "    </div>\n",
              "\n",
              "    </div>\n",
              "  </div>\n"
            ],
            "application/vnd.google.colaboratory.intrinsic+json": {
              "type": "dataframe",
              "variable_name": "df_train",
              "summary": "{\n  \"name\": \"df_train\",\n  \"rows\": 1006,\n  \"fields\": [\n    {\n      \"column\": \"area_primer_piso\",\n      \"properties\": {\n        \"dtype\": \"number\",\n        \"std\": 33.286580128493696,\n        \"min\": 31.0286,\n        \"max\": 222.2168,\n        \"num_unique_values\": 596,\n        \"samples\": [\n          71.8117,\n          48.308,\n          97.2663\n        ],\n        \"semantic_type\": \"\",\n        \"description\": \"\"\n      }\n    },\n    {\n      \"column\": \"tiene_segundo_piso\",\n      \"properties\": {\n        \"dtype\": \"number\",\n        \"std\": 0,\n        \"min\": 0,\n        \"max\": 1,\n        \"num_unique_values\": 2,\n        \"samples\": [\n          1,\n          0\n        ],\n        \"semantic_type\": \"\",\n        \"description\": \"\"\n      }\n    },\n    {\n      \"column\": \"area_segundo_piso\",\n      \"properties\": {\n        \"dtype\": \"number\",\n        \"std\": 39.27624897572633,\n        \"min\": 0.0,\n        \"max\": 168.8922,\n        \"num_unique_values\": 303,\n        \"samples\": [\n          85.468,\n          77.0141\n        ],\n        \"semantic_type\": \"\",\n        \"description\": \"\"\n      }\n    },\n    {\n      \"column\": \"cantidad_banos\",\n      \"properties\": {\n        \"dtype\": \"number\",\n        \"std\": 0,\n        \"min\": 0,\n        \"max\": 3,\n        \"num_unique_values\": 4,\n        \"samples\": [\n          2,\n          0\n        ],\n        \"semantic_type\": \"\",\n        \"description\": \"\"\n      }\n    },\n    {\n      \"column\": \"capacidad_carros_garage\",\n      \"properties\": {\n        \"dtype\": \"number\",\n        \"std\": 213,\n        \"min\": 0,\n        \"max\": 1390,\n        \"num_unique_values\": 360,\n        \"samples\": [\n          309,\n          400\n        ],\n        \"semantic_type\": \"\",\n        \"description\": \"\"\n      }\n    },\n    {\n      \"column\": \"calidad_de_cocina_excelente\",\n      \"properties\": {\n        \"dtype\": \"number\",\n        \"std\": 0,\n        \"min\": 0,\n        \"max\": 1,\n        \"num_unique_values\": 2,\n        \"samples\": [\n          1,\n          0\n        ],\n        \"semantic_type\": \"\",\n        \"description\": \"\"\n      }\n    },\n    {\n      \"column\": \"precio_de_venta\",\n      \"properties\": {\n        \"dtype\": \"number\",\n        \"std\": 368162.7602742605,\n        \"min\": 174083.22999999998,\n        \"max\": 3081250.0,\n        \"num_unique_values\": 518,\n        \"samples\": [\n          877540.0,\n          1986790.0\n        ],\n        \"semantic_type\": \"\",\n        \"description\": \"\"\n      }\n    }\n  ]\n}"
            }
          },
          "metadata": {},
          "execution_count": 15
        }
      ]
    },
    {
      "cell_type": "code",
      "source": [
        "# import ols\n",
        "from statsmodels.formula.api import ols\n",
        "\n",
        "\n",
        "# OLS toma los mínimos cuadrados ordinarios, desconsiderando los valores atípicos"
      ],
      "metadata": {
        "id": "kzuboWuxx-v_"
      },
      "execution_count": 16,
      "outputs": []
    },
    {
      "cell_type": "code",
      "execution_count": 17,
      "metadata": {
        "id": "9XvJ2peG4AzL"
      },
      "outputs": [],
      "source": [
        "# ajustando el primer modelo\n",
        "modelo_0 = ols('precio_de_venta ~ area_primer_piso', data=df_train).fit()"
      ]
    },
    {
      "cell_type": "markdown",
      "metadata": {
        "id": "BpehBvRj4j0B"
      },
      "source": [
        "## Analizando los coeficientes\n",
        "\n",
        "(intensidad, dirección y significancia)\n",
        "\n",
        "\n"
      ]
    },
    {
      "cell_type": "code",
      "source": [
        "# visualizando los parámetros\n",
        "modelo_0.params"
      ],
      "metadata": {
        "id": "TEs3lNVC2nxX",
        "colab": {
          "base_uri": "https://localhost:8080/",
          "height": 147
        },
        "outputId": "714a6be0-f09c-4ba3-fbe2-2d4045e90b6f"
      },
      "execution_count": 18,
      "outputs": [
        {
          "output_type": "execute_result",
          "data": {
            "text/plain": [
              "Intercept           152909.288334\n",
              "area_primer_piso      6793.641641\n",
              "dtype: float64"
            ],
            "text/html": [
              "<div>\n",
              "<style scoped>\n",
              "    .dataframe tbody tr th:only-of-type {\n",
              "        vertical-align: middle;\n",
              "    }\n",
              "\n",
              "    .dataframe tbody tr th {\n",
              "        vertical-align: top;\n",
              "    }\n",
              "\n",
              "    .dataframe thead th {\n",
              "        text-align: right;\n",
              "    }\n",
              "</style>\n",
              "<table border=\"1\" class=\"dataframe\">\n",
              "  <thead>\n",
              "    <tr style=\"text-align: right;\">\n",
              "      <th></th>\n",
              "      <th>0</th>\n",
              "    </tr>\n",
              "  </thead>\n",
              "  <tbody>\n",
              "    <tr>\n",
              "      <th>Intercept</th>\n",
              "      <td>152909.288334</td>\n",
              "    </tr>\n",
              "    <tr>\n",
              "      <th>area_primer_piso</th>\n",
              "      <td>6793.641641</td>\n",
              "    </tr>\n",
              "  </tbody>\n",
              "</table>\n",
              "</div><br><label><b>dtype:</b> float64</label>"
            ]
          },
          "metadata": {},
          "execution_count": 18
        }
      ]
    },
    {
      "cell_type": "code",
      "source": [
        "# El resumen del modelo\n",
        "print(modelo_0.summary())"
      ],
      "metadata": {
        "id": "hq8rU6kZ2qAG",
        "colab": {
          "base_uri": "https://localhost:8080/"
        },
        "outputId": "23559b2c-3083-464c-8c19-b5b63cc56e68"
      },
      "execution_count": 19,
      "outputs": [
        {
          "output_type": "stream",
          "name": "stdout",
          "text": [
            "                            OLS Regression Results                            \n",
            "==============================================================================\n",
            "Dep. Variable:        precio_de_venta   R-squared:                       0.377\n",
            "Model:                            OLS   Adj. R-squared:                  0.377\n",
            "Method:                 Least Squares   F-statistic:                     608.3\n",
            "Date:                Mon, 11 Aug 2025   Prob (F-statistic):          2.22e-105\n",
            "Time:                        13:44:47   Log-Likelihood:                -14082.\n",
            "No. Observations:                1006   AIC:                         2.817e+04\n",
            "Df Residuals:                    1004   BIC:                         2.818e+04\n",
            "Df Model:                           1                                         \n",
            "Covariance Type:            nonrobust                                         \n",
            "====================================================================================\n",
            "                       coef    std err          t      P>|t|      [0.025      0.975]\n",
            "------------------------------------------------------------------------------------\n",
            "Intercept         1.529e+05   3.07e+04      4.981      0.000    9.27e+04    2.13e+05\n",
            "area_primer_piso  6793.6416    275.455     24.663      0.000    6253.109    7334.175\n",
            "==============================================================================\n",
            "Omnibus:                      190.778   Durbin-Watson:                   2.047\n",
            "Prob(Omnibus):                  0.000   Jarque-Bera (JB):              482.457\n",
            "Skew:                           0.998   Prob(JB):                    1.72e-105\n",
            "Kurtosis:                       5.743   Cond. No.                         373.\n",
            "==============================================================================\n",
            "\n",
            "Notes:\n",
            "[1] Standard Errors assume that the covariance matrix of the errors is correctly specified.\n"
          ]
        }
      ]
    },
    {
      "cell_type": "markdown",
      "source": [
        "- El **punto de intercepción** es el valor esperado del precio de la casa cuando todas las demás variables son cero. En este caso, cuando todas las demás variables, incluida el área del primer piso, son cero, el precio esperado de la casa es de $145.196,40. No siempre se tiene una interpretación práctica para este número.\n",
        "\n",
        "- El **efecto individual** del área es de \\$6.833,97. Esto indica que por cada metro cuadrado adicional al área del primer piso, se espera que el precio de la casa aumente en promedio \\$6.833,97.\n",
        "\n",
        "<img src=\"https://i.ibb.co/CJwfMgW/coeficientes.png\" alt=\"coeficientes\" border=\"0\">\n"
      ],
      "metadata": {
        "id": "k_ZfkTOewmlW"
      }
    },
    {
      "cell_type": "markdown",
      "metadata": {
        "id": "qlHuIXawggV1"
      },
      "source": [
        "## Explicabilidad del modelo\n",
        "\n",
        "**¿En qué medida la variación del área explica los diversos precios de las casas?**  \n",
        "\n",
        "En este caso, recurrimos a la métrica R², el coeficiente de determinación. El R² varía de 0 a 1, donde 1 indica un ajuste perfecto del modelo a los datos, es decir, todas las variaciones en la variable dependiente son explicadas por las variables independientes en el modelo. Por otro lado, un R² de 0 indica que el modelo no explica ninguna variabilidad en la variable dependiente."
      ]
    },
    {
      "cell_type": "code",
      "execution_count": 20,
      "metadata": {
        "id": "bCrpFxangFUf",
        "colab": {
          "base_uri": "https://localhost:8080/"
        },
        "outputId": "a00e483c-8332-422e-bca9-fabf339f7bfa"
      },
      "outputs": [
        {
          "output_type": "execute_result",
          "data": {
            "text/plain": [
              "np.float64(0.37728010994297867)"
            ]
          },
          "metadata": {},
          "execution_count": 20
        }
      ],
      "source": [
        "# Observando el R² (coeficiente de correlación)\n",
        "\n",
        "modelo_0.rsquared\n"
      ]
    },
    {
      "cell_type": "markdown",
      "metadata": {
        "id": "ja6mwxKuhCZR"
      },
      "source": [
        "## Entendiendo el resíduo"
      ]
    },
    {
      "cell_type": "code",
      "execution_count": 21,
      "metadata": {
        "id": "G-TWnRl-4hEn",
        "colab": {
          "base_uri": "https://localhost:8080/",
          "height": 458
        },
        "outputId": "fed9dce1-6fcb-40fb-a64c-e312c14e3ae9"
      },
      "outputs": [
        {
          "output_type": "execute_result",
          "data": {
            "text/plain": [
              "1303   -193023.838744\n",
              "326    -144522.356193\n",
              "386     399612.747641\n",
              "615     -68449.596607\n",
              "236     166010.592859\n",
              "            ...      \n",
              "777     465872.680999\n",
              "271    -497642.319788\n",
              "723     461150.204718\n",
              "560    -540482.733402\n",
              "768     -37547.820756\n",
              "Length: 1006, dtype: float64"
            ],
            "text/html": [
              "<div>\n",
              "<style scoped>\n",
              "    .dataframe tbody tr th:only-of-type {\n",
              "        vertical-align: middle;\n",
              "    }\n",
              "\n",
              "    .dataframe tbody tr th {\n",
              "        vertical-align: top;\n",
              "    }\n",
              "\n",
              "    .dataframe thead th {\n",
              "        text-align: right;\n",
              "    }\n",
              "</style>\n",
              "<table border=\"1\" class=\"dataframe\">\n",
              "  <thead>\n",
              "    <tr style=\"text-align: right;\">\n",
              "      <th></th>\n",
              "      <th>0</th>\n",
              "    </tr>\n",
              "  </thead>\n",
              "  <tbody>\n",
              "    <tr>\n",
              "      <th>1303</th>\n",
              "      <td>-193023.838744</td>\n",
              "    </tr>\n",
              "    <tr>\n",
              "      <th>326</th>\n",
              "      <td>-144522.356193</td>\n",
              "    </tr>\n",
              "    <tr>\n",
              "      <th>386</th>\n",
              "      <td>399612.747641</td>\n",
              "    </tr>\n",
              "    <tr>\n",
              "      <th>615</th>\n",
              "      <td>-68449.596607</td>\n",
              "    </tr>\n",
              "    <tr>\n",
              "      <th>236</th>\n",
              "      <td>166010.592859</td>\n",
              "    </tr>\n",
              "    <tr>\n",
              "      <th>...</th>\n",
              "      <td>...</td>\n",
              "    </tr>\n",
              "    <tr>\n",
              "      <th>777</th>\n",
              "      <td>465872.680999</td>\n",
              "    </tr>\n",
              "    <tr>\n",
              "      <th>271</th>\n",
              "      <td>-497642.319788</td>\n",
              "    </tr>\n",
              "    <tr>\n",
              "      <th>723</th>\n",
              "      <td>461150.204718</td>\n",
              "    </tr>\n",
              "    <tr>\n",
              "      <th>560</th>\n",
              "      <td>-540482.733402</td>\n",
              "    </tr>\n",
              "    <tr>\n",
              "      <th>768</th>\n",
              "      <td>-37547.820756</td>\n",
              "    </tr>\n",
              "  </tbody>\n",
              "</table>\n",
              "<p>1006 rows × 1 columns</p>\n",
              "</div><br><label><b>dtype:</b> float64</label>"
            ]
          },
          "metadata": {},
          "execution_count": 21
        }
      ],
      "source": [
        "# Quiénes son los residuos?\n",
        "modelo_0.resid"
      ]
    },
    {
      "cell_type": "code",
      "source": [
        "# Cómo están distribuidos\n",
        "modelo_0.resid.hist()\n",
        "\n",
        "plt.title('Distribución de los residuos')\n",
        "plt.xlabel('Residuos')\n",
        "plt.ylabel('Frecuencia')\n",
        "plt.show()\n",
        "\n",
        "\n",
        "# Es importante comprender que mientras menor sea el valor del residuo, mejor será la generalización de nuestro modelo."
      ],
      "metadata": {
        "id": "bM91NMCMUb-G",
        "colab": {
          "base_uri": "https://localhost:8080/",
          "height": 472
        },
        "outputId": "0048d04a-f90e-4b74-86b6-866df9eca084"
      },
      "execution_count": 22,
      "outputs": [
        {
          "output_type": "display_data",
          "data": {
            "text/plain": [
              "<Figure size 640x480 with 1 Axes>"
            ],
            "image/png": "[encoded data removed]"
          },
          "metadata": {}
        }
      ]
    },
    {
      "cell_type": "markdown",
      "source": [
        "<img src=\"https://i.ibb.co/zGTB35V/residuos.png\" alt=\"residuos\" border=\"0\">"
      ],
      "metadata": {
        "id": "aaPkf1ybjyxa"
      }
    },
    {
      "cell_type": "markdown",
      "metadata": {
        "id": "dbETTlFihzJJ"
      },
      "source": [
        "## Obteniendo el R² de la previsión"
      ]
    },
    {
      "cell_type": "code",
      "source": [
        "# definiendo la 'Y' prevista\n",
        "y_predict = modelo_0.predict(X_test)"
      ],
      "metadata": {
        "id": "nTwiYeIy4wVz",
        "outputId": "c3caa2a5-8c5d-4cff-9990-9182086e313a",
        "colab": {
          "base_uri": "https://localhost:8080/",
          "height": 159
        }
      },
      "execution_count": 1,
      "outputs": [
        {
          "output_type": "error",
          "ename": "NameError",
          "evalue": "name 'modelo_0' is not defined",
          "traceback": [
            "\u001b[0;31m---------------------------------------------------------------------------\u001b[0m",
            "\u001b[0;31mNameError\u001b[0m                                 Traceback (most recent call last)",
            "\u001b[0;32m/tmp/ipython-input-3926398990.py\u001b[0m in \u001b[0;36m<cell line: 0>\u001b[0;34m()\u001b[0m\n\u001b[1;32m      1\u001b[0m \u001b[0;31m# definiendo la 'Y' prevista\u001b[0m\u001b[0;34m\u001b[0m\u001b[0;34m\u001b[0m\u001b[0m\n\u001b[0;32m----> 2\u001b[0;31m \u001b[0my_predict\u001b[0m \u001b[0;34m=\u001b[0m \u001b[0mmodelo_0\u001b[0m\u001b[0;34m.\u001b[0m\u001b[0mpredict\u001b[0m\u001b[0;34m(\u001b[0m\u001b[0mX_test\u001b[0m\u001b[0;34m)\u001b[0m\u001b[0;34m\u001b[0m\u001b[0;34m\u001b[0m\u001b[0m\n\u001b[0m",
            "\u001b[0;31mNameError\u001b[0m: name 'modelo_0' is not defined"
          ]
        }
      ]
    },
    {
      "cell_type": "code",
      "source": [
        "# importando el r2_score\n",
        "from sklearn.metrics import r2_score\n",
        "\n",
        "# calculando el r2\n",
        "print(f'El coeficiente de determinación R2 para el modelo con los datos de prueba es de: {round(r2_score(y_test, y_predict),2)}')"
      ],
      "metadata": {
        "id": "xdGQncIQ5DAF"
      },
      "execution_count": 24,
      "outputs": []
    },
    {
      "cell_type": "code",
      "source": [
        "# mostrando el resultado de r²\n"
      ],
      "metadata": {
        "id": "llfmxm3vav7t"
      },
      "execution_count": 25,
      "outputs": []
    },
    {
      "cell_type": "markdown",
      "metadata": {
        "id": "KGi13v3IyylJ"
      },
      "source": [
        "# 3. Añadiendo otras características\n",
        "\n",
        "El modelo con un solo factor nos mostró un R² de 0.38, es decir, aproximadamente el 38% de la variación observada en los precios de las casas puede explicarse por la variación en el área.  \n",
        "Esto indica que aún existe una cantidad significativa de variación que no está siendo capturada por este modelo específico. Analizaremos otros factores para explicar el precio de las casas."
      ]
    },
    {
      "cell_type": "markdown",
      "metadata": {
        "id": "WeslSOrPWrQw"
      },
      "source": [
        "## Analizando los factores"
      ]
    },
    {
      "cell_type": "code",
      "source": [
        "# cuáles otras características podrían explicar el precio de los inmuebles?\n"
      ],
      "metadata": {
        "id": "FWE7AlEwCKgC"
      },
      "execution_count": 26,
      "outputs": []
    },
    {
      "cell_type": "code",
      "execution_count": 27,
      "metadata": {
        "id": "gka8CJ3PWDFG"
      },
      "outputs": [],
      "source": [
        "#Vamos a analizar solamente y_vars='precio_de_venta'\n"
      ]
    },
    {
      "cell_type": "markdown",
      "metadata": {
        "id": "bVNYO4SCWxh5"
      },
      "source": [
        "## Añadiendo factores al modelo"
      ]
    },
    {
      "cell_type": "code",
      "execution_count": 28,
      "metadata": {
        "id": "xuVtu-Rgek8D"
      },
      "outputs": [],
      "source": [
        "# importando la api de statsmodels\n"
      ]
    },
    {
      "cell_type": "code",
      "source": [
        "# Añadiendo una constante\n"
      ],
      "metadata": {
        "id": "_FE5frMQEsx8"
      },
      "execution_count": 29,
      "outputs": []
    },
    {
      "cell_type": "code",
      "source": [
        "# Creando el modelo de regresión (con todas las variables): saturado\n"
      ],
      "metadata": {
        "id": "ckQxxe5ISxZB"
      },
      "execution_count": 30,
      "outputs": []
    },
    {
      "cell_type": "code",
      "source": [
        "# Modelo sin el área del segundo piso\n"
      ],
      "metadata": {
        "id": "fssPSTIERvQ1"
      },
      "execution_count": 31,
      "outputs": []
    },
    {
      "cell_type": "code",
      "source": [
        "# Modelo sin la información del garage\n",
        "# Modelo sin el área del segundo piso\n"
      ],
      "metadata": {
        "id": "VA2ExIS6ReQg"
      },
      "execution_count": 32,
      "outputs": []
    },
    {
      "cell_type": "code",
      "source": [
        "# Resumen del modelos\n"
      ],
      "metadata": {
        "id": "w6AjciTufCbF"
      },
      "execution_count": 33,
      "outputs": []
    },
    {
      "cell_type": "code",
      "source": [],
      "metadata": {
        "id": "wKaBPSzgJHvb"
      },
      "execution_count": 33,
      "outputs": []
    },
    {
      "cell_type": "markdown",
      "metadata": {
        "id": "J94_6l43r6Uq"
      },
      "source": [
        "## Comparando los modelos\n",
        "Cuál es el modelo?\n"
      ]
    },
    {
      "cell_type": "code",
      "source": [
        "# Cuántos parámetros tiene el modelo?\n"
      ],
      "metadata": {
        "id": "v6lepZJAig3p"
      },
      "execution_count": 34,
      "outputs": []
    },
    {
      "cell_type": "markdown",
      "metadata": {
        "id": "T9mIZFbGi70G"
      },
      "source": [
        "# 4. Precificando las casas"
      ]
    },
    {
      "cell_type": "markdown",
      "source": [
        "## Obteniendo el R² de la previsión"
      ],
      "metadata": {
        "id": "OafzmGZtCVc3"
      }
    },
    {
      "cell_type": "code",
      "source": [
        "# Añadiendo una constante en X_test\n"
      ],
      "metadata": {
        "id": "mC87-JGBkp2j"
      },
      "execution_count": 35,
      "outputs": []
    },
    {
      "cell_type": "code",
      "source": [
        "# Previsión con el modelo 3\n"
      ],
      "metadata": {
        "id": "qqKdimX5kM3-"
      },
      "execution_count": 36,
      "outputs": []
    },
    {
      "cell_type": "code",
      "source": [
        "# Cuál es el r² de la previsión?\n"
      ],
      "metadata": {
        "id": "ADmo3-n8ld4D"
      },
      "execution_count": 37,
      "outputs": []
    },
    {
      "cell_type": "code",
      "execution_count": 38,
      "metadata": {
        "id": "o5jXUBuhnpU4"
      },
      "outputs": [],
      "source": [
        "# Cuál es el R² del entrenamiento?\n"
      ]
    },
    {
      "cell_type": "markdown",
      "metadata": {
        "id": "bnAKaKVJtqLD"
      },
      "source": [
        "## Precificando una casa\n",
        "\n",
        "<img src=\"https://i.ibb.co/SvG4V4j/costo.png\" alt=\"costo\" border=\"0\">"
      ]
    },
    {
      "cell_type": "code",
      "source": [],
      "metadata": {
        "id": "G2lIfTlFj3aY"
      },
      "execution_count": 38,
      "outputs": []
    },
    {
      "cell_type": "code",
      "execution_count": 39,
      "metadata": {
        "id": "yshOHurZkkR0"
      },
      "outputs": [],
      "source": [
        "#Nuevo inmueble\n"
      ]
    },
    {
      "cell_type": "code",
      "source": [
        "# Cuál es el precio del inmueble de acuerdo con el modelo 0?\n"
      ],
      "metadata": {
        "id": "IYLwu7uKGDlx"
      },
      "execution_count": 40,
      "outputs": []
    },
    {
      "cell_type": "code",
      "source": [
        "#Cuál es el precio del inmueble de acuerdo con el modelo 3?\n"
      ],
      "metadata": {
        "id": "v-au2Ae4GyJH"
      },
      "execution_count": 41,
      "outputs": []
    },
    {
      "cell_type": "code",
      "source": [],
      "metadata": {
        "id": "7XCdN-ufkgy0"
      },
      "execution_count": 41,
      "outputs": []
    },
    {
      "cell_type": "markdown",
      "metadata": {
        "id": "NhfoS16EtxpH"
      },
      "source": [
        "## Precificando varias casas\n",
        "\n",
        "<img src=\"https://i.imgur.com/i0skFlB.jpeg\" width=\"600\"/>"
      ]
    },
    {
      "cell_type": "code",
      "source": [
        "# Leyendo varias casas?\n"
      ],
      "metadata": {
        "id": "d4bzNSLLYu35"
      },
      "execution_count": 42,
      "outputs": []
    },
    {
      "cell_type": "code",
      "source": [],
      "metadata": {
        "id": "a3fKRoblZYYZ"
      },
      "execution_count": 42,
      "outputs": []
    },
    {
      "cell_type": "code",
      "source": [
        "# Añadiendo una constante\n"
      ],
      "metadata": {
        "id": "-irX-SIJH-vD"
      },
      "execution_count": 43,
      "outputs": []
    },
    {
      "cell_type": "code",
      "source": [
        "# Cuál es el precio de estas nuevas casas?\n",
        "# precio_casas = pd.DataFrame()\n"
      ],
      "metadata": {
        "id": "zb5dhjx72x0J"
      },
      "execution_count": 44,
      "outputs": []
    },
    {
      "cell_type": "markdown",
      "metadata": {
        "id": "lOFOUylKt92e"
      },
      "source": [
        "# 5. Investigando el modelo\n",
        "\n",
        "\n",
        "\n"
      ]
    },
    {
      "cell_type": "markdown",
      "metadata": {
        "id": "k0xbnPMS8dYV"
      },
      "source": [
        "## Multicolinearidad\n",
        "\n",
        "Cuando dos o más cosas que estás intentando estudiar son tan parecidas que es difícil determinar cuánto está influyendo cada una de ellas en el resultado."
      ]
    },
    {
      "cell_type": "code",
      "source": [
        "# importar el VIF de statsmodel\n"
      ],
      "metadata": {
        "id": "aKIeiwRe0QK0"
      },
      "execution_count": 45,
      "outputs": []
    },
    {
      "cell_type": "code",
      "source": [],
      "metadata": {
        "id": "Tgo0TjBONGBe"
      },
      "execution_count": 45,
      "outputs": []
    },
    {
      "cell_type": "code",
      "source": [
        "# VIF 1\n"
      ],
      "metadata": {
        "id": "ymryq_ETbsrs"
      },
      "execution_count": 46,
      "outputs": []
    },
    {
      "cell_type": "code",
      "source": [
        "# VIF 3\n"
      ],
      "metadata": {
        "id": "O9NOvL_k0eAr"
      },
      "execution_count": 47,
      "outputs": []
    },
    {
      "cell_type": "markdown",
      "metadata": {
        "id": "hFr8CYMVyOiY"
      },
      "source": [
        "## Análisis de los residuos\n",
        "\n",
        "Residuos: la discrepancia entre los valores reales y los valores que el modelo predice para los mismos puntos de datos."
      ]
    },
    {
      "cell_type": "code",
      "source": [],
      "metadata": {
        "id": "ahTiEz-0M8Yi"
      },
      "execution_count": 47,
      "outputs": []
    },
    {
      "cell_type": "code",
      "source": [],
      "metadata": {
        "id": "a8vC2ZAfM_Le"
      },
      "execution_count": 47,
      "outputs": []
    },
    {
      "cell_type": "code",
      "source": [],
      "metadata": {
        "id": "sV5WVni_M8H2"
      },
      "execution_count": 47,
      "outputs": []
    },
    {
      "cell_type": "markdown",
      "source": [
        "<img src=\"https://i.ibb.co/9bmySbm/heterocedasticidad.png\" alt=\"heterocedasticidad\" border=\"0\">"
      ],
      "metadata": {
        "id": "pF72nKFGCg7N"
      }
    }
  ],
  "metadata": {
    "colab": {
      "provenance": [],
      "collapsed_sections": [
        "KGi13v3IyylJ",
        "T9mIZFbGi70G",
        "lOFOUylKt92e"
      ],
      "include_colab_link": true
    },
    "kernelspec": {
      "display_name": "Python 3",
      "name": "python3"
    },
    "language_info": {
      "name": "python"
    }
  },
  "nbformat": 4,
  "nbformat_minor": 0
}